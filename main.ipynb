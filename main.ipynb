{
 "cells": [
  {
   "cell_type": "markdown",
   "metadata": {},
   "source": [
    "# ChessMatch"
   ]
  },
  {
   "cell_type": "markdown",
   "metadata": {},
   "source": [
    "by Eduardo Álvarez (git: Aledgit) and Benjamín Varela (git: 212113114)\n",
    "\n"
   ]
  },
  {
   "cell_type": "markdown",
   "metadata": {},
   "source": [
    "First we read the pre-processed data of the professional players (the data only includes the moves made by the player) (The original data was obtained from https://www.pgnmentor.com/files.html)"
   ]
  },
  {
   "cell_type": "code",
   "execution_count": 1,
   "metadata": {},
   "outputs": [],
   "source": [
    "import json\n",
    "\n",
    "ruta_json = \"GM_games.json\"\n",
    "with open(ruta_json) as archivo_json:\n",
    "    datos = json.load(archivo_json)"
   ]
  },
  {
   "cell_type": "code",
   "execution_count": null,
   "metadata": {},
   "outputs": [],
   "source": [
    "partidas_gm = []\n",
    "\n",
    "for k in datos.keys():\n",
    "    for i in datos[k]:\n",
    "        partidas_gm.append((i, k))\n",
    "partidas_gm"
   ]
  },
  {
   "cell_type": "code",
   "execution_count": 8,
   "metadata": {},
   "outputs": [
    {
     "data": {
      "text/html": [
       "<div>\n",
       "<style scoped>\n",
       "    .dataframe tbody tr th:only-of-type {\n",
       "        vertical-align: middle;\n",
       "    }\n",
       "\n",
       "    .dataframe tbody tr th {\n",
       "        vertical-align: top;\n",
       "    }\n",
       "\n",
       "    .dataframe thead th {\n",
       "        text-align: right;\n",
       "    }\n",
       "</style>\n",
       "<table border=\"1\" class=\"dataframe\">\n",
       "  <thead>\n",
       "    <tr style=\"text-align: right;\">\n",
       "      <th></th>\n",
       "      <th>Movimientos</th>\n",
       "      <th>Jugador</th>\n",
       "    </tr>\n",
       "  </thead>\n",
       "  <tbody>\n",
       "    <tr>\n",
       "      <th>0</th>\n",
       "      <td>[e4, Nf3, d3, g3, Bg2, O-O, c3, a3, b4, Nbd2, ...</td>\n",
       "      <td>Abdusattorov</td>\n",
       "    </tr>\n",
       "    <tr>\n",
       "      <th>1</th>\n",
       "      <td>[Nf6, g6, d5, Nxd5, Bg7, Qxd5, O-O, Nc6, Qd8, ...</td>\n",
       "      <td>Abdusattorov</td>\n",
       "    </tr>\n",
       "    <tr>\n",
       "      <th>2</th>\n",
       "      <td>[e4, Nf3, Bb5, O-O, Re1, Nxe5, Bf1, Rxe5, d4, ...</td>\n",
       "      <td>Abdusattorov</td>\n",
       "    </tr>\n",
       "    <tr>\n",
       "      <th>3</th>\n",
       "      <td>[Nf6, d5, g6, Nxd5, Nxc3, Bg7, c5, Nc6, cxd4, ...</td>\n",
       "      <td>Abdusattorov</td>\n",
       "    </tr>\n",
       "    <tr>\n",
       "      <th>4</th>\n",
       "      <td>[c4, Nf3, Nc3, g3, Bg2, cxd5, O-O, Nxd5, d3, B...</td>\n",
       "      <td>Abdusattorov</td>\n",
       "    </tr>\n",
       "    <tr>\n",
       "      <th>...</th>\n",
       "      <td>...</td>\n",
       "      <td>...</td>\n",
       "    </tr>\n",
       "    <tr>\n",
       "      <th>472968</th>\n",
       "      <td>[d6, g6, h5, Bg7, c5, cxd4, Nc6, Nxd4, Bxd4, N...</td>\n",
       "      <td>Zvjaginsev</td>\n",
       "    </tr>\n",
       "    <tr>\n",
       "      <th>472969</th>\n",
       "      <td>[Nf3, g3, Bg2, O-O, d4, Re1, Nbd2, Bxd2, d5, Q...</td>\n",
       "      <td>Zvjaginsev</td>\n",
       "    </tr>\n",
       "    <tr>\n",
       "      <th>472970</th>\n",
       "      <td>[g6, Bg7, c5, d6, e5, Bg4, Kf8, Bh6, Kg7, Na6,...</td>\n",
       "      <td>Zvjaginsev</td>\n",
       "    </tr>\n",
       "    <tr>\n",
       "      <th>472971</th>\n",
       "      <td>[Nf3, g3, Bg2, h3, O-O, c4, Qb3, d3, Be3, Nc3,...</td>\n",
       "      <td>Zvjaginsev</td>\n",
       "    </tr>\n",
       "    <tr>\n",
       "      <th>472972</th>\n",
       "      <td>[d6, g6, Bg7, c5, cxd4, Nf6, Ng4, h6, g5, Nc6,...</td>\n",
       "      <td>Zvjaginsev</td>\n",
       "    </tr>\n",
       "  </tbody>\n",
       "</table>\n",
       "<p>472973 rows × 2 columns</p>\n",
       "</div>"
      ],
      "text/plain": [
       "                                              Movimientos       Jugador\n",
       "0       [e4, Nf3, d3, g3, Bg2, O-O, c3, a3, b4, Nbd2, ...  Abdusattorov\n",
       "1       [Nf6, g6, d5, Nxd5, Bg7, Qxd5, O-O, Nc6, Qd8, ...  Abdusattorov\n",
       "2       [e4, Nf3, Bb5, O-O, Re1, Nxe5, Bf1, Rxe5, d4, ...  Abdusattorov\n",
       "3       [Nf6, d5, g6, Nxd5, Nxc3, Bg7, c5, Nc6, cxd4, ...  Abdusattorov\n",
       "4       [c4, Nf3, Nc3, g3, Bg2, cxd5, O-O, Nxd5, d3, B...  Abdusattorov\n",
       "...                                                   ...           ...\n",
       "472968  [d6, g6, h5, Bg7, c5, cxd4, Nc6, Nxd4, Bxd4, N...    Zvjaginsev\n",
       "472969  [Nf3, g3, Bg2, O-O, d4, Re1, Nbd2, Bxd2, d5, Q...    Zvjaginsev\n",
       "472970  [g6, Bg7, c5, d6, e5, Bg4, Kf8, Bh6, Kg7, Na6,...    Zvjaginsev\n",
       "472971  [Nf3, g3, Bg2, h3, O-O, c4, Qb3, d3, Be3, Nc3,...    Zvjaginsev\n",
       "472972  [d6, g6, Bg7, c5, cxd4, Nf6, Ng4, h6, g5, Nc6,...    Zvjaginsev\n",
       "\n",
       "[472973 rows x 2 columns]"
      ]
     },
     "execution_count": 8,
     "metadata": {},
     "output_type": "execute_result"
    }
   ],
   "source": [
    "import pandas as pd\n",
    "\n",
    "df = pd.DataFrame(partidas_gm, columns=[\"Movimientos\", \"Jugador\"])\n",
    "df"
   ]
  },
  {
   "cell_type": "markdown",
   "metadata": {},
   "source": [
    "There are many players, so we will filter to only keep the world champions and we transform the movements into a string."
   ]
  },
  {
   "cell_type": "code",
   "execution_count": 9,
   "metadata": {},
   "outputs": [
    {
     "data": {
      "text/html": [
       "<div>\n",
       "<style scoped>\n",
       "    .dataframe tbody tr th:only-of-type {\n",
       "        vertical-align: middle;\n",
       "    }\n",
       "\n",
       "    .dataframe tbody tr th {\n",
       "        vertical-align: top;\n",
       "    }\n",
       "\n",
       "    .dataframe thead th {\n",
       "        text-align: right;\n",
       "    }\n",
       "</style>\n",
       "<table border=\"1\" class=\"dataframe\">\n",
       "  <thead>\n",
       "    <tr style=\"text-align: right;\">\n",
       "      <th></th>\n",
       "      <th>Movimientos</th>\n",
       "      <th>Jugador</th>\n",
       "    </tr>\n",
       "  </thead>\n",
       "  <tbody>\n",
       "    <tr>\n",
       "      <th>10406</th>\n",
       "      <td>e5 Bc5 d6 Bg4 Bxf3 Nc6 Bb6 Nce7 exd4 Nf6 O-O d...</td>\n",
       "      <td>Alekhine</td>\n",
       "    </tr>\n",
       "    <tr>\n",
       "      <th>10407</th>\n",
       "      <td>e5 Nc6 exd4 Nf6 Bb4 bxc6 Qe7 d5 O-O Bc5 gxf6 B...</td>\n",
       "      <td>Alekhine</td>\n",
       "    </tr>\n",
       "    <tr>\n",
       "      <th>10408</th>\n",
       "      <td>e4 Nf3 Bc4 Ng5 exd5 Bb5+ dxc6 Qf3 Bd3 Ne4 Ng3 ...</td>\n",
       "      <td>Alekhine</td>\n",
       "    </tr>\n",
       "    <tr>\n",
       "      <th>10409</th>\n",
       "      <td>e4 Ne2 Ng3 Nc3 Qf3 exf5 Nce4 c3 d4 Nh5 Nhf6+ g...</td>\n",
       "      <td>Alekhine</td>\n",
       "    </tr>\n",
       "    <tr>\n",
       "      <th>10410</th>\n",
       "      <td>e5 Nc6 Bc5 Bxb4 Ba5 exd4 dxc3 Qf6 Qg6 Nge7 Rb8...</td>\n",
       "      <td>Alekhine</td>\n",
       "    </tr>\n",
       "    <tr>\n",
       "      <th>...</th>\n",
       "      <td>...</td>\n",
       "      <td>...</td>\n",
       "    </tr>\n",
       "    <tr>\n",
       "      <th>411953</th>\n",
       "      <td>d5 c6 Nf6 e6 h6 Qxf6 a5 a4 Nd7 dxe4 Qf4 e5 exd...</td>\n",
       "      <td>Tal</td>\n",
       "    </tr>\n",
       "    <tr>\n",
       "      <th>411954</th>\n",
       "      <td>e4 Nf3 d4 Nxd4 Nc3 Be3 Bd3 O-O h3 Qf3 Qxe3 Nf5...</td>\n",
       "      <td>Tal</td>\n",
       "    </tr>\n",
       "    <tr>\n",
       "      <th>411955</th>\n",
       "      <td>e6 d5 dxe4 Nd7 Be7 Ngf6 Nxf6 c5 Qa5+ Qxc5 O-O ...</td>\n",
       "      <td>Tal</td>\n",
       "    </tr>\n",
       "    <tr>\n",
       "      <th>411956</th>\n",
       "      <td>Nf3 d4 c4 g3 Bg2 O-O Nc3 Ne5 cxd5 d6 dxe7 Qa4 ...</td>\n",
       "      <td>Tal</td>\n",
       "    </tr>\n",
       "    <tr>\n",
       "      <th>411957</th>\n",
       "      <td>Nf6 e6 d5 dxc4 Nbd7 c5 cxd4 Bc5 Bd6 O-O Qe7 Ne...</td>\n",
       "      <td>Tal</td>\n",
       "    </tr>\n",
       "  </tbody>\n",
       "</table>\n",
       "<p>37097 rows × 2 columns</p>\n",
       "</div>"
      ],
      "text/plain": [
       "                                              Movimientos   Jugador\n",
       "10406   e5 Bc5 d6 Bg4 Bxf3 Nc6 Bb6 Nce7 exd4 Nf6 O-O d...  Alekhine\n",
       "10407   e5 Nc6 exd4 Nf6 Bb4 bxc6 Qe7 d5 O-O Bc5 gxf6 B...  Alekhine\n",
       "10408   e4 Nf3 Bc4 Ng5 exd5 Bb5+ dxc6 Qf3 Bd3 Ne4 Ng3 ...  Alekhine\n",
       "10409   e4 Ne2 Ng3 Nc3 Qf3 exf5 Nce4 c3 d4 Nh5 Nhf6+ g...  Alekhine\n",
       "10410   e5 Nc6 Bc5 Bxb4 Ba5 exd4 dxc3 Qf6 Qg6 Nge7 Rb8...  Alekhine\n",
       "...                                                   ...       ...\n",
       "411953  d5 c6 Nf6 e6 h6 Qxf6 a5 a4 Nd7 dxe4 Qf4 e5 exd...       Tal\n",
       "411954  e4 Nf3 d4 Nxd4 Nc3 Be3 Bd3 O-O h3 Qf3 Qxe3 Nf5...       Tal\n",
       "411955  e6 d5 dxe4 Nd7 Be7 Ngf6 Nxf6 c5 Qa5+ Qxc5 O-O ...       Tal\n",
       "411956  Nf3 d4 c4 g3 Bg2 O-O Nc3 Ne5 cxd5 d6 dxe7 Qa4 ...       Tal\n",
       "411957  Nf6 e6 d5 dxc4 Nbd7 c5 cxd4 Bc5 Bd6 O-O Qe7 Ne...       Tal\n",
       "\n",
       "[37097 rows x 2 columns]"
      ]
     },
     "execution_count": 9,
     "metadata": {},
     "output_type": "execute_result"
    }
   ],
   "source": [
    "campeones_mundiales = [\"Steinitz\", \"Lasker\", \"Capablanca\", \"Alekhine\", \"Euwe\", \"Botvinnik\", \"Smyslov\", \"Tal\", \"Petrosian\", \"Spassky\", \"Fischer\", \"Karpov\", \"Kasparov\", \"Kramnik\", \"Anand\", \"Carlsen\", \"Ding\"]\n",
    "\n",
    "df = df[df[\"Jugador\"].isin(campeones_mundiales)].copy()\n",
    "\n",
    "\n",
    "df[\"Movimientos\"] = df[\"Movimientos\"].apply(lambda x: \" \".join(x))\n",
    "\n",
    "df"
   ]
  },
  {
   "cell_type": "code",
   "execution_count": 10,
   "metadata": {},
   "outputs": [
    {
     "data": {
      "text/plain": [
       "Carlsen       5662\n",
       "Anand         4145\n",
       "Kramnik       3878\n",
       "Karpov        3516\n",
       "Smyslov       2627\n",
       "Tal           2431\n",
       "Spassky       2231\n",
       "Kasparov      2115\n",
       "Ding          2011\n",
       "Petrosian     1893\n",
       "Alekhine      1661\n",
       "Euwe          1122\n",
       "Lasker         900\n",
       "Botvinnik      891\n",
       "Fischer        827\n",
       "Capablanca     597\n",
       "Steinitz       590\n",
       "Name: Jugador, dtype: int64"
      ]
     },
     "execution_count": 10,
     "metadata": {},
     "output_type": "execute_result"
    }
   ],
   "source": [
    "df[\"Jugador\"].value_counts()"
   ]
  },
  {
   "cell_type": "code",
   "execution_count": 11,
   "metadata": {},
   "outputs": [
    {
     "data": {
      "text/html": [
       "<div>\n",
       "<style scoped>\n",
       "    .dataframe tbody tr th:only-of-type {\n",
       "        vertical-align: middle;\n",
       "    }\n",
       "\n",
       "    .dataframe tbody tr th {\n",
       "        vertical-align: top;\n",
       "    }\n",
       "\n",
       "    .dataframe thead th {\n",
       "        text-align: right;\n",
       "    }\n",
       "</style>\n",
       "<table border=\"1\" class=\"dataframe\">\n",
       "  <thead>\n",
       "    <tr style=\"text-align: right;\">\n",
       "      <th></th>\n",
       "      <th>Movimientos</th>\n",
       "      <th>Jugador</th>\n",
       "    </tr>\n",
       "  </thead>\n",
       "  <tbody>\n",
       "    <tr>\n",
       "      <th>0</th>\n",
       "      <td>e5 Bc5 d6 Bg4 Bxf3 Nc6 Bb6 Nce7 exd4 Nf6 O-O d...</td>\n",
       "      <td>Alekhine</td>\n",
       "    </tr>\n",
       "    <tr>\n",
       "      <th>1</th>\n",
       "      <td>e5 Nc6 exd4 Nf6 Bb4 bxc6 Qe7 d5 O-O Bc5 gxf6 B...</td>\n",
       "      <td>Alekhine</td>\n",
       "    </tr>\n",
       "    <tr>\n",
       "      <th>2</th>\n",
       "      <td>e4 Nf3 Bc4 Ng5 exd5 Bb5+ dxc6 Qf3 Bd3 Ne4 Ng3 ...</td>\n",
       "      <td>Alekhine</td>\n",
       "    </tr>\n",
       "    <tr>\n",
       "      <th>3</th>\n",
       "      <td>e4 Ne2 Ng3 Nc3 Qf3 exf5 Nce4 c3 d4 Nh5 Nhf6+ g...</td>\n",
       "      <td>Alekhine</td>\n",
       "    </tr>\n",
       "    <tr>\n",
       "      <th>4</th>\n",
       "      <td>e5 Nc6 Bc5 Bxb4 Ba5 exd4 dxc3 Qf6 Qg6 Nge7 Rb8...</td>\n",
       "      <td>Alekhine</td>\n",
       "    </tr>\n",
       "    <tr>\n",
       "      <th>...</th>\n",
       "      <td>...</td>\n",
       "      <td>...</td>\n",
       "    </tr>\n",
       "    <tr>\n",
       "      <th>37092</th>\n",
       "      <td>d5 c6 Nf6 e6 h6 Qxf6 a5 a4 Nd7 dxe4 Qf4 e5 exd...</td>\n",
       "      <td>Tal</td>\n",
       "    </tr>\n",
       "    <tr>\n",
       "      <th>37093</th>\n",
       "      <td>e4 Nf3 d4 Nxd4 Nc3 Be3 Bd3 O-O h3 Qf3 Qxe3 Nf5...</td>\n",
       "      <td>Tal</td>\n",
       "    </tr>\n",
       "    <tr>\n",
       "      <th>37094</th>\n",
       "      <td>e6 d5 dxe4 Nd7 Be7 Ngf6 Nxf6 c5 Qa5+ Qxc5 O-O ...</td>\n",
       "      <td>Tal</td>\n",
       "    </tr>\n",
       "    <tr>\n",
       "      <th>37095</th>\n",
       "      <td>Nf3 d4 c4 g3 Bg2 O-O Nc3 Ne5 cxd5 d6 dxe7 Qa4 ...</td>\n",
       "      <td>Tal</td>\n",
       "    </tr>\n",
       "    <tr>\n",
       "      <th>37096</th>\n",
       "      <td>Nf6 e6 d5 dxc4 Nbd7 c5 cxd4 Bc5 Bd6 O-O Qe7 Ne...</td>\n",
       "      <td>Tal</td>\n",
       "    </tr>\n",
       "  </tbody>\n",
       "</table>\n",
       "<p>37097 rows × 2 columns</p>\n",
       "</div>"
      ],
      "text/plain": [
       "                                             Movimientos   Jugador\n",
       "0      e5 Bc5 d6 Bg4 Bxf3 Nc6 Bb6 Nce7 exd4 Nf6 O-O d...  Alekhine\n",
       "1      e5 Nc6 exd4 Nf6 Bb4 bxc6 Qe7 d5 O-O Bc5 gxf6 B...  Alekhine\n",
       "2      e4 Nf3 Bc4 Ng5 exd5 Bb5+ dxc6 Qf3 Bd3 Ne4 Ng3 ...  Alekhine\n",
       "3      e4 Ne2 Ng3 Nc3 Qf3 exf5 Nce4 c3 d4 Nh5 Nhf6+ g...  Alekhine\n",
       "4      e5 Nc6 Bc5 Bxb4 Ba5 exd4 dxc3 Qf6 Qg6 Nge7 Rb8...  Alekhine\n",
       "...                                                  ...       ...\n",
       "37092  d5 c6 Nf6 e6 h6 Qxf6 a5 a4 Nd7 dxe4 Qf4 e5 exd...       Tal\n",
       "37093  e4 Nf3 d4 Nxd4 Nc3 Be3 Bd3 O-O h3 Qf3 Qxe3 Nf5...       Tal\n",
       "37094  e6 d5 dxe4 Nd7 Be7 Ngf6 Nxf6 c5 Qa5+ Qxc5 O-O ...       Tal\n",
       "37095  Nf3 d4 c4 g3 Bg2 O-O Nc3 Ne5 cxd5 d6 dxe7 Qa4 ...       Tal\n",
       "37096  Nf6 e6 d5 dxc4 Nbd7 c5 cxd4 Bc5 Bd6 O-O Qe7 Ne...       Tal\n",
       "\n",
       "[37097 rows x 2 columns]"
      ]
     },
     "execution_count": 11,
     "metadata": {},
     "output_type": "execute_result"
    }
   ],
   "source": [
    "df.reset_index(drop=True, inplace=True)\n",
    "df"
   ]
  },
  {
   "cell_type": "markdown",
   "metadata": {},
   "source": [
    "We vectorize the strings that contain the moves using Sentence-BERT, we treat each move as a word and each game as a phrase."
   ]
  },
  {
   "cell_type": "code",
   "execution_count": null,
   "metadata": {},
   "outputs": [],
   "source": [
    "import sentence_transformers\n",
    "def vectorizar(jugadas):\n",
    "    modelo = sentence_transformers.SentenceTransformer(\"bert-base-nli-mean-tokens\")\n",
    "    return  modelo.encode(jugadas)"
   ]
  },
  {
   "cell_type": "code",
   "execution_count": null,
   "metadata": {},
   "outputs": [],
   "source": [
    "df[\"Movimientos\"] = df[\"Movimientos\"].apply(vectorizar)\n",
    "df"
   ]
  },
  {
   "cell_type": "code",
   "execution_count": null,
   "metadata": {},
   "outputs": [],
   "source": [
    "#df.to_csv(\"movimientos_vectorizados.csv\", index=False)"
   ]
  },
  {
   "cell_type": "markdown",
   "metadata": {},
   "source": [
    "We save and read the data"
   ]
  },
  {
   "cell_type": "code",
   "execution_count": 19,
   "metadata": {},
   "outputs": [
    {
     "data": {
      "text/html": [
       "<div>\n",
       "<style scoped>\n",
       "    .dataframe tbody tr th:only-of-type {\n",
       "        vertical-align: middle;\n",
       "    }\n",
       "\n",
       "    .dataframe tbody tr th {\n",
       "        vertical-align: top;\n",
       "    }\n",
       "\n",
       "    .dataframe thead th {\n",
       "        text-align: right;\n",
       "    }\n",
       "</style>\n",
       "<table border=\"1\" class=\"dataframe\">\n",
       "  <thead>\n",
       "    <tr style=\"text-align: right;\">\n",
       "      <th></th>\n",
       "      <th>Movimientos</th>\n",
       "      <th>Jugador</th>\n",
       "    </tr>\n",
       "  </thead>\n",
       "  <tbody>\n",
       "    <tr>\n",
       "      <th>0</th>\n",
       "      <td>[0.129905656, 1.01455879, 0.373896122, 0.06524...</td>\n",
       "      <td>Alekhine</td>\n",
       "    </tr>\n",
       "    <tr>\n",
       "      <th>1</th>\n",
       "      <td>[0.18280862, 0.93180174, 0.55392313, -0.088220...</td>\n",
       "      <td>Alekhine</td>\n",
       "    </tr>\n",
       "    <tr>\n",
       "      <th>2</th>\n",
       "      <td>[0.0666133314, 0.886144578, 0.446246952, -0.15...</td>\n",
       "      <td>Alekhine</td>\n",
       "    </tr>\n",
       "    <tr>\n",
       "      <th>3</th>\n",
       "      <td>[-0.247070238, 0.747730255, 0.7055161, -0.1055...</td>\n",
       "      <td>Alekhine</td>\n",
       "    </tr>\n",
       "    <tr>\n",
       "      <th>4</th>\n",
       "      <td>[0.0970335379, 0.953312635, 0.298921138, -0.03...</td>\n",
       "      <td>Alekhine</td>\n",
       "    </tr>\n",
       "    <tr>\n",
       "      <th>...</th>\n",
       "      <td>...</td>\n",
       "      <td>...</td>\n",
       "    </tr>\n",
       "    <tr>\n",
       "      <th>37092</th>\n",
       "      <td>[0.0792945549, 0.889419556, 0.518985033, -0.05...</td>\n",
       "      <td>Tal</td>\n",
       "    </tr>\n",
       "    <tr>\n",
       "      <th>37093</th>\n",
       "      <td>[-0.282590419, 0.582363129, 0.545618176, -0.13...</td>\n",
       "      <td>Tal</td>\n",
       "    </tr>\n",
       "    <tr>\n",
       "      <th>37094</th>\n",
       "      <td>[0.194788992, 1.08474302, 0.267043412, 0.00658...</td>\n",
       "      <td>Tal</td>\n",
       "    </tr>\n",
       "    <tr>\n",
       "      <th>37095</th>\n",
       "      <td>[-0.10328377, 0.715310991, 0.491934329, -0.026...</td>\n",
       "      <td>Tal</td>\n",
       "    </tr>\n",
       "    <tr>\n",
       "      <th>37096</th>\n",
       "      <td>[0.16356121, 0.769233465, 0.40884155, 0.147644...</td>\n",
       "      <td>Tal</td>\n",
       "    </tr>\n",
       "  </tbody>\n",
       "</table>\n",
       "<p>37097 rows × 2 columns</p>\n",
       "</div>"
      ],
      "text/plain": [
       "                                             Movimientos   Jugador\n",
       "0      [0.129905656, 1.01455879, 0.373896122, 0.06524...  Alekhine\n",
       "1      [0.18280862, 0.93180174, 0.55392313, -0.088220...  Alekhine\n",
       "2      [0.0666133314, 0.886144578, 0.446246952, -0.15...  Alekhine\n",
       "3      [-0.247070238, 0.747730255, 0.7055161, -0.1055...  Alekhine\n",
       "4      [0.0970335379, 0.953312635, 0.298921138, -0.03...  Alekhine\n",
       "...                                                  ...       ...\n",
       "37092  [0.0792945549, 0.889419556, 0.518985033, -0.05...       Tal\n",
       "37093  [-0.282590419, 0.582363129, 0.545618176, -0.13...       Tal\n",
       "37094  [0.194788992, 1.08474302, 0.267043412, 0.00658...       Tal\n",
       "37095  [-0.10328377, 0.715310991, 0.491934329, -0.026...       Tal\n",
       "37096  [0.16356121, 0.769233465, 0.40884155, 0.147644...       Tal\n",
       "\n",
       "[37097 rows x 2 columns]"
      ]
     },
     "execution_count": 19,
     "metadata": {},
     "output_type": "execute_result"
    }
   ],
   "source": [
    "import pandas as pd\n",
    "import numpy as np\n",
    "df = pd.read_csv(\"movimientos_vectorizados.csv\")\n",
    "df[\"Movimientos\"] = df[\"Movimientos\"].apply(lambda x: np.fromstring(x[1:-1], sep=' '))\n",
    "df"
   ]
  },
  {
   "cell_type": "code",
   "execution_count": 20,
   "metadata": {},
   "outputs": [
    {
     "data": {
      "text/html": [
       "<div>\n",
       "<style scoped>\n",
       "    .dataframe tbody tr th:only-of-type {\n",
       "        vertical-align: middle;\n",
       "    }\n",
       "\n",
       "    .dataframe tbody tr th {\n",
       "        vertical-align: top;\n",
       "    }\n",
       "\n",
       "    .dataframe thead th {\n",
       "        text-align: right;\n",
       "    }\n",
       "</style>\n",
       "<table border=\"1\" class=\"dataframe\">\n",
       "  <thead>\n",
       "    <tr style=\"text-align: right;\">\n",
       "      <th></th>\n",
       "      <th>Jugador</th>\n",
       "      <th>0</th>\n",
       "      <th>1</th>\n",
       "      <th>2</th>\n",
       "      <th>3</th>\n",
       "      <th>4</th>\n",
       "      <th>5</th>\n",
       "      <th>6</th>\n",
       "      <th>7</th>\n",
       "      <th>8</th>\n",
       "      <th>...</th>\n",
       "      <th>758</th>\n",
       "      <th>759</th>\n",
       "      <th>760</th>\n",
       "      <th>761</th>\n",
       "      <th>762</th>\n",
       "      <th>763</th>\n",
       "      <th>764</th>\n",
       "      <th>765</th>\n",
       "      <th>766</th>\n",
       "      <th>767</th>\n",
       "    </tr>\n",
       "  </thead>\n",
       "  <tbody>\n",
       "    <tr>\n",
       "      <th>0</th>\n",
       "      <td>Alekhine</td>\n",
       "      <td>0.129906</td>\n",
       "      <td>1.014559</td>\n",
       "      <td>0.373896</td>\n",
       "      <td>0.065240</td>\n",
       "      <td>0.121783</td>\n",
       "      <td>-0.299630</td>\n",
       "      <td>0.361673</td>\n",
       "      <td>-0.112090</td>\n",
       "      <td>-0.696019</td>\n",
       "      <td>...</td>\n",
       "      <td>-0.203733</td>\n",
       "      <td>-0.745709</td>\n",
       "      <td>-0.412826</td>\n",
       "      <td>-0.225623</td>\n",
       "      <td>0.330870</td>\n",
       "      <td>-1.399653</td>\n",
       "      <td>-0.219471</td>\n",
       "      <td>-0.209104</td>\n",
       "      <td>0.433068</td>\n",
       "      <td>0.629154</td>\n",
       "    </tr>\n",
       "    <tr>\n",
       "      <th>1</th>\n",
       "      <td>Alekhine</td>\n",
       "      <td>0.182809</td>\n",
       "      <td>0.931802</td>\n",
       "      <td>0.553923</td>\n",
       "      <td>-0.088220</td>\n",
       "      <td>0.083568</td>\n",
       "      <td>-0.254767</td>\n",
       "      <td>0.532058</td>\n",
       "      <td>-0.069527</td>\n",
       "      <td>-0.774626</td>\n",
       "      <td>...</td>\n",
       "      <td>-0.086407</td>\n",
       "      <td>-0.777177</td>\n",
       "      <td>-0.365740</td>\n",
       "      <td>-0.032048</td>\n",
       "      <td>0.368401</td>\n",
       "      <td>-1.250027</td>\n",
       "      <td>-0.268042</td>\n",
       "      <td>-0.156332</td>\n",
       "      <td>0.345662</td>\n",
       "      <td>0.441251</td>\n",
       "    </tr>\n",
       "    <tr>\n",
       "      <th>2</th>\n",
       "      <td>Alekhine</td>\n",
       "      <td>0.066613</td>\n",
       "      <td>0.886145</td>\n",
       "      <td>0.446247</td>\n",
       "      <td>-0.150929</td>\n",
       "      <td>0.049735</td>\n",
       "      <td>-0.350813</td>\n",
       "      <td>0.304442</td>\n",
       "      <td>-0.120138</td>\n",
       "      <td>-0.931873</td>\n",
       "      <td>...</td>\n",
       "      <td>-0.294742</td>\n",
       "      <td>-0.681480</td>\n",
       "      <td>-0.476060</td>\n",
       "      <td>-0.076723</td>\n",
       "      <td>-0.073091</td>\n",
       "      <td>-1.282926</td>\n",
       "      <td>-0.190295</td>\n",
       "      <td>-0.185135</td>\n",
       "      <td>0.670322</td>\n",
       "      <td>0.635209</td>\n",
       "    </tr>\n",
       "    <tr>\n",
       "      <th>3</th>\n",
       "      <td>Alekhine</td>\n",
       "      <td>-0.247070</td>\n",
       "      <td>0.747730</td>\n",
       "      <td>0.705516</td>\n",
       "      <td>-0.105515</td>\n",
       "      <td>-0.097309</td>\n",
       "      <td>-0.191384</td>\n",
       "      <td>0.466110</td>\n",
       "      <td>-0.148955</td>\n",
       "      <td>-0.681943</td>\n",
       "      <td>...</td>\n",
       "      <td>-0.253023</td>\n",
       "      <td>-0.631430</td>\n",
       "      <td>-0.077860</td>\n",
       "      <td>-0.319245</td>\n",
       "      <td>-0.135471</td>\n",
       "      <td>-1.359030</td>\n",
       "      <td>-0.211552</td>\n",
       "      <td>-0.533281</td>\n",
       "      <td>0.674921</td>\n",
       "      <td>0.763851</td>\n",
       "    </tr>\n",
       "    <tr>\n",
       "      <th>4</th>\n",
       "      <td>Alekhine</td>\n",
       "      <td>0.097034</td>\n",
       "      <td>0.953313</td>\n",
       "      <td>0.298921</td>\n",
       "      <td>-0.036183</td>\n",
       "      <td>0.116548</td>\n",
       "      <td>-0.274407</td>\n",
       "      <td>0.444627</td>\n",
       "      <td>-0.155595</td>\n",
       "      <td>-0.621248</td>\n",
       "      <td>...</td>\n",
       "      <td>-0.255514</td>\n",
       "      <td>-0.697601</td>\n",
       "      <td>-0.416516</td>\n",
       "      <td>-0.146807</td>\n",
       "      <td>0.424262</td>\n",
       "      <td>-1.304640</td>\n",
       "      <td>-0.029708</td>\n",
       "      <td>-0.203544</td>\n",
       "      <td>0.395210</td>\n",
       "      <td>0.454459</td>\n",
       "    </tr>\n",
       "    <tr>\n",
       "      <th>...</th>\n",
       "      <td>...</td>\n",
       "      <td>...</td>\n",
       "      <td>...</td>\n",
       "      <td>...</td>\n",
       "      <td>...</td>\n",
       "      <td>...</td>\n",
       "      <td>...</td>\n",
       "      <td>...</td>\n",
       "      <td>...</td>\n",
       "      <td>...</td>\n",
       "      <td>...</td>\n",
       "      <td>...</td>\n",
       "      <td>...</td>\n",
       "      <td>...</td>\n",
       "      <td>...</td>\n",
       "      <td>...</td>\n",
       "      <td>...</td>\n",
       "      <td>...</td>\n",
       "      <td>...</td>\n",
       "      <td>...</td>\n",
       "      <td>...</td>\n",
       "    </tr>\n",
       "    <tr>\n",
       "      <th>37092</th>\n",
       "      <td>Tal</td>\n",
       "      <td>0.079295</td>\n",
       "      <td>0.889420</td>\n",
       "      <td>0.518985</td>\n",
       "      <td>-0.058805</td>\n",
       "      <td>0.065209</td>\n",
       "      <td>-0.290682</td>\n",
       "      <td>0.285422</td>\n",
       "      <td>-0.254577</td>\n",
       "      <td>-0.561422</td>\n",
       "      <td>...</td>\n",
       "      <td>-0.276013</td>\n",
       "      <td>-0.644411</td>\n",
       "      <td>-0.436878</td>\n",
       "      <td>-0.076617</td>\n",
       "      <td>0.135800</td>\n",
       "      <td>-1.287781</td>\n",
       "      <td>-0.105523</td>\n",
       "      <td>-0.224501</td>\n",
       "      <td>0.518847</td>\n",
       "      <td>0.579188</td>\n",
       "    </tr>\n",
       "    <tr>\n",
       "      <th>37093</th>\n",
       "      <td>Tal</td>\n",
       "      <td>-0.282590</td>\n",
       "      <td>0.582363</td>\n",
       "      <td>0.545618</td>\n",
       "      <td>-0.134274</td>\n",
       "      <td>0.044666</td>\n",
       "      <td>-0.114713</td>\n",
       "      <td>0.477443</td>\n",
       "      <td>-0.223837</td>\n",
       "      <td>-0.658812</td>\n",
       "      <td>...</td>\n",
       "      <td>-0.250887</td>\n",
       "      <td>-0.651296</td>\n",
       "      <td>0.225534</td>\n",
       "      <td>-0.115271</td>\n",
       "      <td>-0.342485</td>\n",
       "      <td>-1.047518</td>\n",
       "      <td>-0.047623</td>\n",
       "      <td>-0.648501</td>\n",
       "      <td>0.619445</td>\n",
       "      <td>0.511120</td>\n",
       "    </tr>\n",
       "    <tr>\n",
       "      <th>37094</th>\n",
       "      <td>Tal</td>\n",
       "      <td>0.194789</td>\n",
       "      <td>1.084743</td>\n",
       "      <td>0.267043</td>\n",
       "      <td>0.006582</td>\n",
       "      <td>0.126420</td>\n",
       "      <td>-0.248428</td>\n",
       "      <td>0.485693</td>\n",
       "      <td>-0.191190</td>\n",
       "      <td>-0.701489</td>\n",
       "      <td>...</td>\n",
       "      <td>-0.239445</td>\n",
       "      <td>-0.744142</td>\n",
       "      <td>-0.651609</td>\n",
       "      <td>-0.115170</td>\n",
       "      <td>0.422729</td>\n",
       "      <td>-1.397665</td>\n",
       "      <td>-0.167929</td>\n",
       "      <td>-0.027462</td>\n",
       "      <td>0.357518</td>\n",
       "      <td>0.443920</td>\n",
       "    </tr>\n",
       "    <tr>\n",
       "      <th>37095</th>\n",
       "      <td>Tal</td>\n",
       "      <td>-0.103284</td>\n",
       "      <td>0.715311</td>\n",
       "      <td>0.491934</td>\n",
       "      <td>-0.026135</td>\n",
       "      <td>0.077040</td>\n",
       "      <td>-0.394127</td>\n",
       "      <td>0.360971</td>\n",
       "      <td>-0.089289</td>\n",
       "      <td>-0.721189</td>\n",
       "      <td>...</td>\n",
       "      <td>-0.366846</td>\n",
       "      <td>-0.772675</td>\n",
       "      <td>-0.306564</td>\n",
       "      <td>-0.135406</td>\n",
       "      <td>-0.053029</td>\n",
       "      <td>-1.228665</td>\n",
       "      <td>-0.158061</td>\n",
       "      <td>-0.203965</td>\n",
       "      <td>0.489320</td>\n",
       "      <td>0.454535</td>\n",
       "    </tr>\n",
       "    <tr>\n",
       "      <th>37096</th>\n",
       "      <td>Tal</td>\n",
       "      <td>0.163561</td>\n",
       "      <td>0.769233</td>\n",
       "      <td>0.408842</td>\n",
       "      <td>0.147644</td>\n",
       "      <td>0.202296</td>\n",
       "      <td>-0.335775</td>\n",
       "      <td>0.106935</td>\n",
       "      <td>-0.088090</td>\n",
       "      <td>-0.687900</td>\n",
       "      <td>...</td>\n",
       "      <td>-0.287154</td>\n",
       "      <td>-0.699438</td>\n",
       "      <td>-0.298985</td>\n",
       "      <td>-0.341913</td>\n",
       "      <td>0.274575</td>\n",
       "      <td>-1.098462</td>\n",
       "      <td>-0.189975</td>\n",
       "      <td>-0.243163</td>\n",
       "      <td>0.372062</td>\n",
       "      <td>0.520708</td>\n",
       "    </tr>\n",
       "  </tbody>\n",
       "</table>\n",
       "<p>37097 rows × 769 columns</p>\n",
       "</div>"
      ],
      "text/plain": [
       "        Jugador         0         1         2         3         4         5  \\\n",
       "0      Alekhine  0.129906  1.014559  0.373896  0.065240  0.121783 -0.299630   \n",
       "1      Alekhine  0.182809  0.931802  0.553923 -0.088220  0.083568 -0.254767   \n",
       "2      Alekhine  0.066613  0.886145  0.446247 -0.150929  0.049735 -0.350813   \n",
       "3      Alekhine -0.247070  0.747730  0.705516 -0.105515 -0.097309 -0.191384   \n",
       "4      Alekhine  0.097034  0.953313  0.298921 -0.036183  0.116548 -0.274407   \n",
       "...         ...       ...       ...       ...       ...       ...       ...   \n",
       "37092       Tal  0.079295  0.889420  0.518985 -0.058805  0.065209 -0.290682   \n",
       "37093       Tal -0.282590  0.582363  0.545618 -0.134274  0.044666 -0.114713   \n",
       "37094       Tal  0.194789  1.084743  0.267043  0.006582  0.126420 -0.248428   \n",
       "37095       Tal -0.103284  0.715311  0.491934 -0.026135  0.077040 -0.394127   \n",
       "37096       Tal  0.163561  0.769233  0.408842  0.147644  0.202296 -0.335775   \n",
       "\n",
       "              6         7         8  ...       758       759       760  \\\n",
       "0      0.361673 -0.112090 -0.696019  ... -0.203733 -0.745709 -0.412826   \n",
       "1      0.532058 -0.069527 -0.774626  ... -0.086407 -0.777177 -0.365740   \n",
       "2      0.304442 -0.120138 -0.931873  ... -0.294742 -0.681480 -0.476060   \n",
       "3      0.466110 -0.148955 -0.681943  ... -0.253023 -0.631430 -0.077860   \n",
       "4      0.444627 -0.155595 -0.621248  ... -0.255514 -0.697601 -0.416516   \n",
       "...         ...       ...       ...  ...       ...       ...       ...   \n",
       "37092  0.285422 -0.254577 -0.561422  ... -0.276013 -0.644411 -0.436878   \n",
       "37093  0.477443 -0.223837 -0.658812  ... -0.250887 -0.651296  0.225534   \n",
       "37094  0.485693 -0.191190 -0.701489  ... -0.239445 -0.744142 -0.651609   \n",
       "37095  0.360971 -0.089289 -0.721189  ... -0.366846 -0.772675 -0.306564   \n",
       "37096  0.106935 -0.088090 -0.687900  ... -0.287154 -0.699438 -0.298985   \n",
       "\n",
       "            761       762       763       764       765       766       767  \n",
       "0     -0.225623  0.330870 -1.399653 -0.219471 -0.209104  0.433068  0.629154  \n",
       "1     -0.032048  0.368401 -1.250027 -0.268042 -0.156332  0.345662  0.441251  \n",
       "2     -0.076723 -0.073091 -1.282926 -0.190295 -0.185135  0.670322  0.635209  \n",
       "3     -0.319245 -0.135471 -1.359030 -0.211552 -0.533281  0.674921  0.763851  \n",
       "4     -0.146807  0.424262 -1.304640 -0.029708 -0.203544  0.395210  0.454459  \n",
       "...         ...       ...       ...       ...       ...       ...       ...  \n",
       "37092 -0.076617  0.135800 -1.287781 -0.105523 -0.224501  0.518847  0.579188  \n",
       "37093 -0.115271 -0.342485 -1.047518 -0.047623 -0.648501  0.619445  0.511120  \n",
       "37094 -0.115170  0.422729 -1.397665 -0.167929 -0.027462  0.357518  0.443920  \n",
       "37095 -0.135406 -0.053029 -1.228665 -0.158061 -0.203965  0.489320  0.454535  \n",
       "37096 -0.341913  0.274575 -1.098462 -0.189975 -0.243163  0.372062  0.520708  \n",
       "\n",
       "[37097 rows x 769 columns]"
      ]
     },
     "execution_count": 20,
     "metadata": {},
     "output_type": "execute_result"
    }
   ],
   "source": [
    "df = pd.concat([df, df[\"Movimientos\"].apply(pd.Series)], axis=1)\n",
    "df = df.drop(columns=[\"Movimientos\"])\n",
    "df"
   ]
  },
  {
   "cell_type": "markdown",
   "metadata": {},
   "source": [
    "We split the data"
   ]
  },
  {
   "cell_type": "code",
   "execution_count": 21,
   "metadata": {},
   "outputs": [],
   "source": [
    "from sklearn.model_selection import train_test_split\n",
    "\n",
    "X = df.drop(columns=[\"Jugador\"])\n",
    "y = df[\"Jugador\"]\n",
    "\n",
    "\n",
    "X_train, X_test, y_train, y_test = train_test_split(X, y, test_size=0.2, random_state=42)"
   ]
  },
  {
   "cell_type": "code",
   "execution_count": 4,
   "metadata": {},
   "outputs": [
    {
     "data": {
      "text/html": [
       "<div>\n",
       "<style scoped>\n",
       "    .dataframe tbody tr th:only-of-type {\n",
       "        vertical-align: middle;\n",
       "    }\n",
       "\n",
       "    .dataframe tbody tr th {\n",
       "        vertical-align: top;\n",
       "    }\n",
       "\n",
       "    .dataframe thead th {\n",
       "        text-align: right;\n",
       "    }\n",
       "</style>\n",
       "<table border=\"1\" class=\"dataframe\">\n",
       "  <thead>\n",
       "    <tr style=\"text-align: right;\">\n",
       "      <th></th>\n",
       "      <th>0</th>\n",
       "      <th>1</th>\n",
       "      <th>2</th>\n",
       "      <th>3</th>\n",
       "      <th>4</th>\n",
       "      <th>5</th>\n",
       "      <th>6</th>\n",
       "      <th>7</th>\n",
       "      <th>8</th>\n",
       "      <th>9</th>\n",
       "      <th>...</th>\n",
       "      <th>759</th>\n",
       "      <th>760</th>\n",
       "      <th>761</th>\n",
       "      <th>762</th>\n",
       "      <th>763</th>\n",
       "      <th>764</th>\n",
       "      <th>765</th>\n",
       "      <th>766</th>\n",
       "      <th>767</th>\n",
       "      <th>Jugador</th>\n",
       "    </tr>\n",
       "  </thead>\n",
       "  <tbody>\n",
       "    <tr>\n",
       "      <th>1219</th>\n",
       "      <td>-0.104997</td>\n",
       "      <td>1.104885</td>\n",
       "      <td>0.431549</td>\n",
       "      <td>-0.080855</td>\n",
       "      <td>-0.004838</td>\n",
       "      <td>-0.413981</td>\n",
       "      <td>0.572494</td>\n",
       "      <td>-0.356248</td>\n",
       "      <td>-0.745180</td>\n",
       "      <td>0.762945</td>\n",
       "      <td>...</td>\n",
       "      <td>-0.710544</td>\n",
       "      <td>-0.564002</td>\n",
       "      <td>-0.158995</td>\n",
       "      <td>-0.000492</td>\n",
       "      <td>-1.452370</td>\n",
       "      <td>-0.155819</td>\n",
       "      <td>-0.281015</td>\n",
       "      <td>0.438525</td>\n",
       "      <td>0.398958</td>\n",
       "      <td>Alekhine</td>\n",
       "    </tr>\n",
       "    <tr>\n",
       "      <th>28389</th>\n",
       "      <td>-0.003554</td>\n",
       "      <td>0.940787</td>\n",
       "      <td>0.006786</td>\n",
       "      <td>-0.299748</td>\n",
       "      <td>0.235598</td>\n",
       "      <td>-0.120974</td>\n",
       "      <td>0.412587</td>\n",
       "      <td>-0.157685</td>\n",
       "      <td>-0.668121</td>\n",
       "      <td>0.509591</td>\n",
       "      <td>...</td>\n",
       "      <td>-0.691236</td>\n",
       "      <td>-0.503677</td>\n",
       "      <td>0.063593</td>\n",
       "      <td>0.366441</td>\n",
       "      <td>-1.451131</td>\n",
       "      <td>-0.162407</td>\n",
       "      <td>0.017620</td>\n",
       "      <td>0.314390</td>\n",
       "      <td>0.240047</td>\n",
       "      <td>Petrosian</td>\n",
       "    </tr>\n",
       "    <tr>\n",
       "      <th>8634</th>\n",
       "      <td>0.384085</td>\n",
       "      <td>1.087469</td>\n",
       "      <td>0.396524</td>\n",
       "      <td>-0.025700</td>\n",
       "      <td>0.060504</td>\n",
       "      <td>-0.433231</td>\n",
       "      <td>0.411452</td>\n",
       "      <td>-0.023380</td>\n",
       "      <td>-0.965607</td>\n",
       "      <td>0.738338</td>\n",
       "      <td>...</td>\n",
       "      <td>-0.691580</td>\n",
       "      <td>-0.679298</td>\n",
       "      <td>0.124774</td>\n",
       "      <td>0.293652</td>\n",
       "      <td>-1.517493</td>\n",
       "      <td>-0.171867</td>\n",
       "      <td>-0.042062</td>\n",
       "      <td>0.587379</td>\n",
       "      <td>0.450259</td>\n",
       "      <td>Carlsen</td>\n",
       "    </tr>\n",
       "    <tr>\n",
       "      <th>22850</th>\n",
       "      <td>0.095506</td>\n",
       "      <td>0.698990</td>\n",
       "      <td>0.383719</td>\n",
       "      <td>0.027370</td>\n",
       "      <td>0.140353</td>\n",
       "      <td>-0.208557</td>\n",
       "      <td>0.418626</td>\n",
       "      <td>0.105780</td>\n",
       "      <td>-0.699889</td>\n",
       "      <td>0.536333</td>\n",
       "      <td>...</td>\n",
       "      <td>-0.720586</td>\n",
       "      <td>-0.337445</td>\n",
       "      <td>-0.116538</td>\n",
       "      <td>0.395645</td>\n",
       "      <td>-1.312334</td>\n",
       "      <td>-0.108262</td>\n",
       "      <td>-0.159430</td>\n",
       "      <td>0.207062</td>\n",
       "      <td>0.412702</td>\n",
       "      <td>Kramnik</td>\n",
       "    </tr>\n",
       "    <tr>\n",
       "      <th>19999</th>\n",
       "      <td>-0.015062</td>\n",
       "      <td>1.053245</td>\n",
       "      <td>0.182164</td>\n",
       "      <td>-0.105492</td>\n",
       "      <td>0.003730</td>\n",
       "      <td>-0.463732</td>\n",
       "      <td>0.415453</td>\n",
       "      <td>0.142127</td>\n",
       "      <td>-0.710983</td>\n",
       "      <td>0.816923</td>\n",
       "      <td>...</td>\n",
       "      <td>-0.726965</td>\n",
       "      <td>-0.672999</td>\n",
       "      <td>-0.112508</td>\n",
       "      <td>0.086052</td>\n",
       "      <td>-1.202930</td>\n",
       "      <td>0.016920</td>\n",
       "      <td>-0.256589</td>\n",
       "      <td>0.598476</td>\n",
       "      <td>0.499284</td>\n",
       "      <td>Karpov</td>\n",
       "    </tr>\n",
       "    <tr>\n",
       "      <th>...</th>\n",
       "      <td>...</td>\n",
       "      <td>...</td>\n",
       "      <td>...</td>\n",
       "      <td>...</td>\n",
       "      <td>...</td>\n",
       "      <td>...</td>\n",
       "      <td>...</td>\n",
       "      <td>...</td>\n",
       "      <td>...</td>\n",
       "      <td>...</td>\n",
       "      <td>...</td>\n",
       "      <td>...</td>\n",
       "      <td>...</td>\n",
       "      <td>...</td>\n",
       "      <td>...</td>\n",
       "      <td>...</td>\n",
       "      <td>...</td>\n",
       "      <td>...</td>\n",
       "      <td>...</td>\n",
       "      <td>...</td>\n",
       "      <td>...</td>\n",
       "    </tr>\n",
       "    <tr>\n",
       "      <th>16850</th>\n",
       "      <td>-0.083501</td>\n",
       "      <td>0.870695</td>\n",
       "      <td>0.292226</td>\n",
       "      <td>-0.047278</td>\n",
       "      <td>-0.109891</td>\n",
       "      <td>-0.215382</td>\n",
       "      <td>0.408834</td>\n",
       "      <td>-0.140408</td>\n",
       "      <td>-0.765392</td>\n",
       "      <td>0.767306</td>\n",
       "      <td>...</td>\n",
       "      <td>-0.640515</td>\n",
       "      <td>-0.332931</td>\n",
       "      <td>-0.085081</td>\n",
       "      <td>0.059924</td>\n",
       "      <td>-1.213562</td>\n",
       "      <td>0.046745</td>\n",
       "      <td>-0.412911</td>\n",
       "      <td>0.571930</td>\n",
       "      <td>0.550129</td>\n",
       "      <td>Fischer</td>\n",
       "    </tr>\n",
       "    <tr>\n",
       "      <th>6265</th>\n",
       "      <td>0.274890</td>\n",
       "      <td>1.270822</td>\n",
       "      <td>0.125722</td>\n",
       "      <td>0.102016</td>\n",
       "      <td>0.101722</td>\n",
       "      <td>-0.281042</td>\n",
       "      <td>0.406109</td>\n",
       "      <td>-0.022249</td>\n",
       "      <td>-0.669154</td>\n",
       "      <td>0.581102</td>\n",
       "      <td>...</td>\n",
       "      <td>-0.696825</td>\n",
       "      <td>-0.438866</td>\n",
       "      <td>-0.284637</td>\n",
       "      <td>0.252860</td>\n",
       "      <td>-1.306364</td>\n",
       "      <td>0.056810</td>\n",
       "      <td>-0.129646</td>\n",
       "      <td>0.472695</td>\n",
       "      <td>0.473053</td>\n",
       "      <td>Botvinnik</td>\n",
       "    </tr>\n",
       "    <tr>\n",
       "      <th>11284</th>\n",
       "      <td>0.103931</td>\n",
       "      <td>0.956563</td>\n",
       "      <td>0.449476</td>\n",
       "      <td>0.126566</td>\n",
       "      <td>0.082393</td>\n",
       "      <td>-0.280667</td>\n",
       "      <td>0.251013</td>\n",
       "      <td>-0.202215</td>\n",
       "      <td>-0.683861</td>\n",
       "      <td>0.494405</td>\n",
       "      <td>...</td>\n",
       "      <td>-0.723880</td>\n",
       "      <td>-0.448692</td>\n",
       "      <td>-0.353540</td>\n",
       "      <td>0.346960</td>\n",
       "      <td>-1.194475</td>\n",
       "      <td>-0.084944</td>\n",
       "      <td>-0.235324</td>\n",
       "      <td>0.454151</td>\n",
       "      <td>0.470295</td>\n",
       "      <td>Carlsen</td>\n",
       "    </tr>\n",
       "    <tr>\n",
       "      <th>860</th>\n",
       "      <td>-0.327736</td>\n",
       "      <td>0.462089</td>\n",
       "      <td>0.738110</td>\n",
       "      <td>-0.089582</td>\n",
       "      <td>-0.268598</td>\n",
       "      <td>-0.067193</td>\n",
       "      <td>0.761813</td>\n",
       "      <td>-0.347403</td>\n",
       "      <td>-0.852416</td>\n",
       "      <td>0.651943</td>\n",
       "      <td>...</td>\n",
       "      <td>-0.606492</td>\n",
       "      <td>0.040654</td>\n",
       "      <td>-0.197532</td>\n",
       "      <td>-0.331332</td>\n",
       "      <td>-1.033309</td>\n",
       "      <td>-0.285865</td>\n",
       "      <td>-0.418663</td>\n",
       "      <td>0.468421</td>\n",
       "      <td>0.408518</td>\n",
       "      <td>Alekhine</td>\n",
       "    </tr>\n",
       "    <tr>\n",
       "      <th>15795</th>\n",
       "      <td>0.263261</td>\n",
       "      <td>1.045237</td>\n",
       "      <td>0.568780</td>\n",
       "      <td>0.006373</td>\n",
       "      <td>-0.004691</td>\n",
       "      <td>-0.381631</td>\n",
       "      <td>0.312847</td>\n",
       "      <td>-0.075020</td>\n",
       "      <td>-0.715448</td>\n",
       "      <td>0.628505</td>\n",
       "      <td>...</td>\n",
       "      <td>-0.636221</td>\n",
       "      <td>-0.609124</td>\n",
       "      <td>-0.217831</td>\n",
       "      <td>0.213798</td>\n",
       "      <td>-1.329708</td>\n",
       "      <td>-0.228603</td>\n",
       "      <td>-0.283823</td>\n",
       "      <td>0.507282</td>\n",
       "      <td>0.442007</td>\n",
       "      <td>Euwe</td>\n",
       "    </tr>\n",
       "  </tbody>\n",
       "</table>\n",
       "<p>29677 rows × 769 columns</p>\n",
       "</div>"
      ],
      "text/plain": [
       "              0         1         2         3         4         5         6  \\\n",
       "1219  -0.104997  1.104885  0.431549 -0.080855 -0.004838 -0.413981  0.572494   \n",
       "28389 -0.003554  0.940787  0.006786 -0.299748  0.235598 -0.120974  0.412587   \n",
       "8634   0.384085  1.087469  0.396524 -0.025700  0.060504 -0.433231  0.411452   \n",
       "22850  0.095506  0.698990  0.383719  0.027370  0.140353 -0.208557  0.418626   \n",
       "19999 -0.015062  1.053245  0.182164 -0.105492  0.003730 -0.463732  0.415453   \n",
       "...         ...       ...       ...       ...       ...       ...       ...   \n",
       "16850 -0.083501  0.870695  0.292226 -0.047278 -0.109891 -0.215382  0.408834   \n",
       "6265   0.274890  1.270822  0.125722  0.102016  0.101722 -0.281042  0.406109   \n",
       "11284  0.103931  0.956563  0.449476  0.126566  0.082393 -0.280667  0.251013   \n",
       "860   -0.327736  0.462089  0.738110 -0.089582 -0.268598 -0.067193  0.761813   \n",
       "15795  0.263261  1.045237  0.568780  0.006373 -0.004691 -0.381631  0.312847   \n",
       "\n",
       "              7         8         9  ...       759       760       761  \\\n",
       "1219  -0.356248 -0.745180  0.762945  ... -0.710544 -0.564002 -0.158995   \n",
       "28389 -0.157685 -0.668121  0.509591  ... -0.691236 -0.503677  0.063593   \n",
       "8634  -0.023380 -0.965607  0.738338  ... -0.691580 -0.679298  0.124774   \n",
       "22850  0.105780 -0.699889  0.536333  ... -0.720586 -0.337445 -0.116538   \n",
       "19999  0.142127 -0.710983  0.816923  ... -0.726965 -0.672999 -0.112508   \n",
       "...         ...       ...       ...  ...       ...       ...       ...   \n",
       "16850 -0.140408 -0.765392  0.767306  ... -0.640515 -0.332931 -0.085081   \n",
       "6265  -0.022249 -0.669154  0.581102  ... -0.696825 -0.438866 -0.284637   \n",
       "11284 -0.202215 -0.683861  0.494405  ... -0.723880 -0.448692 -0.353540   \n",
       "860   -0.347403 -0.852416  0.651943  ... -0.606492  0.040654 -0.197532   \n",
       "15795 -0.075020 -0.715448  0.628505  ... -0.636221 -0.609124 -0.217831   \n",
       "\n",
       "            762       763       764       765       766       767    Jugador  \n",
       "1219  -0.000492 -1.452370 -0.155819 -0.281015  0.438525  0.398958   Alekhine  \n",
       "28389  0.366441 -1.451131 -0.162407  0.017620  0.314390  0.240047  Petrosian  \n",
       "8634   0.293652 -1.517493 -0.171867 -0.042062  0.587379  0.450259    Carlsen  \n",
       "22850  0.395645 -1.312334 -0.108262 -0.159430  0.207062  0.412702    Kramnik  \n",
       "19999  0.086052 -1.202930  0.016920 -0.256589  0.598476  0.499284     Karpov  \n",
       "...         ...       ...       ...       ...       ...       ...        ...  \n",
       "16850  0.059924 -1.213562  0.046745 -0.412911  0.571930  0.550129    Fischer  \n",
       "6265   0.252860 -1.306364  0.056810 -0.129646  0.472695  0.473053  Botvinnik  \n",
       "11284  0.346960 -1.194475 -0.084944 -0.235324  0.454151  0.470295    Carlsen  \n",
       "860   -0.331332 -1.033309 -0.285865 -0.418663  0.468421  0.408518   Alekhine  \n",
       "15795  0.213798 -1.329708 -0.228603 -0.283823  0.507282  0.442007       Euwe  \n",
       "\n",
       "[29677 rows x 769 columns]"
      ]
     },
     "execution_count": 4,
     "metadata": {},
     "output_type": "execute_result"
    }
   ],
   "source": [
    "df_train = pd.DataFrame(X_train)\n",
    "df_train[\"Jugador\"] = y_train\n",
    "df_train"
   ]
  },
  {
   "cell_type": "code",
   "execution_count": 5,
   "metadata": {},
   "outputs": [
    {
     "data": {
      "text/plain": [
       "Carlsen       4534\n",
       "Anand         3298\n",
       "Kramnik       3113\n",
       "Karpov        2814\n",
       "Smyslov       2097\n",
       "Tal           1922\n",
       "Spassky       1792\n",
       "Kasparov      1692\n",
       "Ding          1590\n",
       "Petrosian     1533\n",
       "Alekhine      1321\n",
       "Euwe           915\n",
       "Lasker         724\n",
       "Botvinnik      697\n",
       "Fischer        692\n",
       "Capablanca     482\n",
       "Steinitz       461\n",
       "Name: Jugador, dtype: int64"
      ]
     },
     "execution_count": 5,
     "metadata": {},
     "output_type": "execute_result"
    }
   ],
   "source": [
    "df_train[\"Jugador\"].value_counts()"
   ]
  },
  {
   "cell_type": "markdown",
   "metadata": {},
   "source": [
    "We clearly see that the training dataset is unbalanced"
   ]
  },
  {
   "cell_type": "code",
   "execution_count": 6,
   "metadata": {},
   "outputs": [],
   "source": [
    "import numpy as np\n",
    "X_train = df_train.drop(columns=[\"Jugador\"]).to_numpy()\n",
    "y_train = df_train[\"Jugador\"].to_numpy()\n"
   ]
  },
  {
   "cell_type": "code",
   "execution_count": 8,
   "metadata": {},
   "outputs": [
    {
     "data": {
      "text/plain": [
       "(29677, 768)"
      ]
     },
     "execution_count": 8,
     "metadata": {},
     "output_type": "execute_result"
    }
   ],
   "source": [
    "X_train.shape"
   ]
  },
  {
   "cell_type": "markdown",
   "metadata": {},
   "source": [
    "So we do oversampling with SMOTE"
   ]
  },
  {
   "cell_type": "code",
   "execution_count": 9,
   "metadata": {},
   "outputs": [],
   "source": [
    "from imblearn.over_sampling import SMOTE\n",
    "\n",
    "X_train = np.array([np.array(xi, dtype=np.float32) for xi in X_train])\n",
    "smote = SMOTE(sampling_strategy=\"not majority\", random_state=42)\n",
    "\n",
    "\n",
    "X_train_resampled, y_train_resampled = smote.fit_resample(X_train, y_train)"
   ]
  },
  {
   "cell_type": "code",
   "execution_count": 10,
   "metadata": {},
   "outputs": [
    {
     "data": {
      "text/plain": [
       "(77078, 768)"
      ]
     },
     "execution_count": 10,
     "metadata": {},
     "output_type": "execute_result"
    }
   ],
   "source": [
    "X_train_resampled.shape"
   ]
  },
  {
   "cell_type": "code",
   "execution_count": 11,
   "metadata": {},
   "outputs": [
    {
     "data": {
      "text/plain": [
       "(array(['Alekhine', 'Anand', 'Botvinnik', 'Capablanca', 'Carlsen', 'Ding',\n",
       "        'Euwe', 'Fischer', 'Karpov', 'Kasparov', 'Kramnik', 'Lasker',\n",
       "        'Petrosian', 'Smyslov', 'Spassky', 'Steinitz', 'Tal'], dtype=object),\n",
       " array([4534, 4534, 4534, 4534, 4534, 4534, 4534, 4534, 4534, 4534, 4534,\n",
       "        4534, 4534, 4534, 4534, 4534, 4534], dtype=int64))"
      ]
     },
     "execution_count": 11,
     "metadata": {},
     "output_type": "execute_result"
    }
   ],
   "source": [
    "np.unique(y_train_resampled, return_counts=True)"
   ]
  },
  {
   "cell_type": "markdown",
   "metadata": {},
   "source": [
    "We split the train dataset, because we are going to \"train\" 2 \"models\""
   ]
  },
  {
   "cell_type": "code",
   "execution_count": 12,
   "metadata": {},
   "outputs": [],
   "source": [
    "X_train_1, X_train_2, y_train_1, y_train_2 = train_test_split(X_train_resampled, y_train_resampled, test_size=0.2, random_state=42)"
   ]
  },
  {
   "cell_type": "code",
   "execution_count": 13,
   "metadata": {},
   "outputs": [
    {
     "name": "stdout",
     "output_type": "stream",
     "text": [
      "0.18870005189413597\n",
      "              precision    recall  f1-score   support\n",
      "\n",
      "    Alekhine       0.15      0.19      0.17       896\n",
      "       Anand       0.19      0.11      0.14       887\n",
      "   Botvinnik       0.17      0.20      0.19       884\n",
      "  Capablanca       0.24      0.26      0.25       957\n",
      "     Carlsen       0.13      0.10      0.11       921\n",
      "        Ding       0.13      0.27      0.17       894\n",
      "        Euwe       0.18      0.19      0.18       885\n",
      "     Fischer       0.20      0.31      0.24       891\n",
      "      Karpov       0.15      0.11      0.13       904\n",
      "    Kasparov       0.15      0.11      0.13       934\n",
      "     Kramnik       0.14      0.03      0.06       899\n",
      "      Lasker       0.21      0.27      0.24       922\n",
      "   Petrosian       0.23      0.25      0.24       900\n",
      "     Smyslov       0.16      0.06      0.09       907\n",
      "     Spassky       0.24      0.17      0.20       927\n",
      "    Steinitz       0.30      0.49      0.37       928\n",
      "         Tal       0.11      0.06      0.07       880\n",
      "\n",
      "    accuracy                           0.19     15416\n",
      "   macro avg       0.18      0.19      0.18     15416\n",
      "weighted avg       0.18      0.19      0.18     15416\n",
      "\n"
     ]
    }
   ],
   "source": [
    "from sklearn.metrics import accuracy_score, classification_report\n",
    "from sklearn.svm import SVC\n",
    "\n",
    "modelo = SVC()\n",
    "modelo.fit(X_train_1, y_train_1)\n",
    "\n",
    "y_pred = modelo.predict(X_train_2)\n",
    "\n",
    "print(accuracy_score(y_train_2, y_pred))\n",
    "print(classification_report(y_train_2, y_pred))"
   ]
  },
  {
   "cell_type": "markdown",
   "metadata": {},
   "source": [
    "Quite low accuracy, but 3 times better than chance, but this is just a part of the model."
   ]
  },
  {
   "cell_type": "markdown",
   "metadata": {},
   "source": [
    "Let's see the confusion matrix"
   ]
  },
  {
   "cell_type": "code",
   "execution_count": 44,
   "metadata": {},
   "outputs": [],
   "source": [
    "import itertools, matplotlib.pyplot as plt, numpy as np\n",
    "\n",
    "def plot_confusion_matrix(cm, classes,\n",
    "                          normalize=False,\n",
    "                          title='Confusion matrix',\n",
    "                          cmap=plt.cm.Blues):\n",
    "    \"\"\"\n",
    "    This function prints and plots the confusion matrix.\n",
    "    Normalization can be applied by setting `normalize=True`.\n",
    "    \"\"\"\n",
    "    if normalize:\n",
    "        cm = cm.astype('float') / cm.sum(axis=1)[:, np.newaxis]\n",
    "        print(\"Normalized confusion matrix\")\n",
    "    else:\n",
    "        print('Confusion matrix, without normalization')\n",
    "\n",
    "\n",
    "    plt.imshow(cm, interpolation='nearest', cmap=cmap)\n",
    "    plt.title(title)\n",
    "    plt.colorbar()\n",
    "    tick_marks = np.arange(len(classes))\n",
    "    plt.xticks(tick_marks, classes, rotation=90)\n",
    "    plt.yticks(tick_marks, classes)\n",
    "\n",
    "    fmt = '.2f' if normalize else 'd'\n",
    "    thresh = cm.max() / 2.\n",
    "    for i, j in itertools.product(range(cm.shape[0]), range(cm.shape[1])):\n",
    "        plt.text(j, i, format(cm[i, j], fmt),\n",
    "                 horizontalalignment=\"center\",\n",
    "                 color=\"white\" if cm[i, j] > thresh else \"black\")\n",
    "\n",
    "    plt.tight_layout()\n",
    "    plt.ylabel('True label')\n",
    "    plt.xlabel('Predicted label')"
   ]
  },
  {
   "cell_type": "code",
   "execution_count": 15,
   "metadata": {},
   "outputs": [
    {
     "name": "stdout",
     "output_type": "stream",
     "text": [
      "Normalized confusion matrix\n"
     ]
    },
    {
     "data": {
      "image/png": "[encoded data removed]",
      "text/plain": [
       "<Figure size 792x792 with 2 Axes>"
      ]
     },
     "metadata": {
      "needs_background": "light"
     },
     "output_type": "display_data"
    }
   ],
   "source": [
    "from sklearn.metrics import confusion_matrix\n",
    "labels = y.unique()\n",
    "\n",
    "\n",
    "cnf_matrix = confusion_matrix(y_train_2, y_pred)\n",
    "np.set_printoptions(precision=2)\n",
    "\n",
    "# Plot normalized confusion matrix\n",
    "plt.figure(figsize=(11, 11))\n",
    "plot_confusion_matrix(cnf_matrix, classes=labels, normalize=True, title='Normalized confusion matrix')\n",
    "\n",
    "plt.show()"
   ]
  },
  {
   "cell_type": "markdown",
   "metadata": {},
   "source": [
    "Since in chess there is no single style for each player, it is logical that a player's style is composed of percentages of other styles.\n",
    "\n",
    "So we will take the vectors of the confusion matrix as the vector representation of the players, interpreting it as that Lasker has 22% of Steinitz's playstyle, for example."
   ]
  },
  {
   "cell_type": "code",
   "execution_count": 16,
   "metadata": {},
   "outputs": [],
   "source": [
    "matriz_normalizada = cnf_matrix.astype('float') / cnf_matrix.sum(axis=1)[:, np.newaxis]\n",
    "\n",
    "vectores_jugadores = {}\n",
    "\n",
    "for vector, jugador in zip(matriz_normalizada, labels):\n",
    "    vectores_jugadores[jugador] = vector\n",
    "    "
   ]
  },
  {
   "cell_type": "code",
   "execution_count": 17,
   "metadata": {},
   "outputs": [
    {
     "data": {
      "text/plain": [
       "{'Alekhine': array([0.19, 0.03, 0.04, 0.08, 0.03, 0.1 , 0.08, 0.07, 0.02, 0.05, 0.01,\n",
       "        0.11, 0.03, 0.01, 0.02, 0.12, 0.02]),\n",
       " 'Anand': array([0.05, 0.11, 0.04, 0.04, 0.07, 0.11, 0.04, 0.12, 0.05, 0.04, 0.01,\n",
       "        0.11, 0.04, 0.03, 0.05, 0.05, 0.05]),\n",
       " 'Botvinnik': array([0.04, 0.02, 0.2 , 0.06, 0.03, 0.15, 0.05, 0.07, 0.04, 0.06, 0.01,\n",
       "        0.05, 0.08, 0.02, 0.03, 0.06, 0.03]),\n",
       " 'Capablanca': array([0.05, 0.02, 0.04, 0.26, 0.04, 0.11, 0.08, 0.09, 0.03, 0.02, 0.01,\n",
       "        0.07, 0.04, 0.02, 0.03, 0.08, 0.02]),\n",
       " 'Carlsen': array([0.07, 0.04, 0.06, 0.06, 0.1 , 0.17, 0.04, 0.1 , 0.05, 0.04, 0.03,\n",
       "        0.09, 0.02, 0.03, 0.02, 0.07, 0.01]),\n",
       " 'Ding': array([0.06, 0.03, 0.06, 0.04, 0.05, 0.27, 0.06, 0.08, 0.08, 0.06, 0.02,\n",
       "        0.03, 0.05, 0.01, 0.02, 0.07, 0.01]),\n",
       " 'Euwe': array([0.1 , 0.03, 0.06, 0.09, 0.02, 0.11, 0.19, 0.08, 0.04, 0.05, 0.01,\n",
       "        0.06, 0.03, 0.02, 0.02, 0.08, 0.03]),\n",
       " 'Fischer': array([0.07, 0.04, 0.05, 0.03, 0.05, 0.1 , 0.05, 0.31, 0.02, 0.03, 0.01,\n",
       "        0.07, 0.01, 0.02, 0.02, 0.07, 0.02]),\n",
       " 'Karpov': array([0.06, 0.05, 0.05, 0.06, 0.04, 0.19, 0.04, 0.03, 0.11, 0.05, 0.01,\n",
       "        0.05, 0.09, 0.02, 0.04, 0.06, 0.03]),\n",
       " 'Kasparov': array([0.1 , 0.03, 0.06, 0.04, 0.04, 0.11, 0.07, 0.12, 0.04, 0.11, 0.02,\n",
       "        0.05, 0.06, 0.02, 0.03, 0.06, 0.03]),\n",
       " 'Kramnik': array([0.08, 0.04, 0.05, 0.04, 0.07, 0.15, 0.07, 0.08, 0.05, 0.07, 0.03,\n",
       "        0.06, 0.05, 0.03, 0.04, 0.06, 0.03]),\n",
       " 'Lasker': array([0.09, 0.03, 0.04, 0.03, 0.04, 0.05, 0.04, 0.06, 0.02, 0.02, 0.01,\n",
       "        0.27, 0.03, 0.01, 0.03, 0.22, 0.02]),\n",
       " 'Petrosian': array([0.04, 0.02, 0.13, 0.06, 0.03, 0.09, 0.04, 0.04, 0.07, 0.04, 0.01,\n",
       "        0.03, 0.25, 0.04, 0.05, 0.02, 0.04]),\n",
       " 'Smyslov': array([0.07, 0.03, 0.11, 0.07, 0.04, 0.11, 0.05, 0.07, 0.04, 0.04, 0.01,\n",
       "        0.06, 0.12, 0.06, 0.05, 0.04, 0.04]),\n",
       " 'Spassky': array([0.06, 0.03, 0.07, 0.05, 0.03, 0.09, 0.03, 0.07, 0.03, 0.03, 0.01,\n",
       "        0.06, 0.09, 0.03, 0.17, 0.07, 0.06]),\n",
       " 'Steinitz': array([0.07, 0.01, 0.04, 0.03, 0.02, 0.06, 0.04, 0.05, 0.02, 0.04, 0.01,\n",
       "        0.1 , 0.01, 0.  , 0.01, 0.49, 0.  ]),\n",
       " 'Tal': array([0.06, 0.04, 0.05, 0.07, 0.04, 0.11, 0.05, 0.11, 0.04, 0.05, 0.01,\n",
       "        0.08, 0.09, 0.03, 0.07, 0.05, 0.06])}"
      ]
     },
     "execution_count": 17,
     "metadata": {},
     "output_type": "execute_result"
    }
   ],
   "source": [
    "vectores_jugadores"
   ]
  },
  {
   "cell_type": "markdown",
   "metadata": {},
   "source": [
    "We save the vectors and the model"
   ]
  },
  {
   "cell_type": "code",
   "execution_count": 18,
   "metadata": {},
   "outputs": [],
   "source": [
    "#import pickle\n",
    "\n",
    "#with open('svm_model_chess.pkl', 'wb') as file:\n",
    "#    pickle.dump(modelo, file)\n",
    "#\n",
    "#with open('vectores_jugadores.pkl', 'wb') as file:\n",
    "#    pickle.dump(vectores_jugadores, file)"
   ]
  },
  {
   "cell_type": "markdown",
   "metadata": {},
   "source": [
    "We create the functions to read pgn files, create the user vector and compare the vectors."
   ]
  },
  {
   "cell_type": "code",
   "execution_count": null,
   "metadata": {},
   "outputs": [],
   "source": [
    "import sentence_transformers\n",
    "import chess.pgn\n",
    "\n",
    "def parse_pgn_file(file_path, player):\n",
    "    \n",
    "    with open(file_path, 'r', encoding='utf-8') as pgn:\n",
    "        \n",
    "        player_games = list()\n",
    "\n",
    "        while True:\n",
    "\n",
    "            try:\n",
    "                game = chess.pgn.read_game(pgn)\n",
    "            except UnicodeDecodeError:\n",
    "                print(game)\n",
    "                \n",
    "            if game is None:\n",
    "                break  \n",
    "            #We asume that name of the player is always in one of the headers\n",
    "            player_color = \"White\" if player == game.headers[\"White\"] else \"Black\"\n",
    "            player_moves = list()\n",
    "            node = game\n",
    "\n",
    "            i = 0\n",
    "            while not node.is_end():\n",
    "\n",
    "                move = node.variation(0)\n",
    "                \n",
    "                next_node = node.variation(0)\n",
    "\n",
    "                if player_color == \"White\":\n",
    "                    if i % 2 == 0:\n",
    "                        player_moves.append(node.board().san(next_node.move))\n",
    "                else:\n",
    "                    if i % 2 != 0:\n",
    "                        player_moves.append(node.board().san(next_node.move))\n",
    "\n",
    "                node = next_node\n",
    "                i += 1\n",
    "            \n",
    "            \n",
    "            player_games.append(player_moves)\n",
    "\n",
    "    return player_games\n",
    "\n",
    "\n",
    "\n",
    "def vectorize_games(games):\n",
    "    modelo = sentence_transformers.SentenceTransformer(\"bert-base-nli-mean-tokens\")\n",
    "    games_vectors = list()\n",
    "\n",
    "    for game in games:\n",
    "        game_string = \" \".join(game)\n",
    "        modelo.encode(game_string)\n",
    "        games_vectors.append(modelo.encode(game_string))\n",
    "    \n",
    "    return games_vectors\n",
    "\n",
    "def update_vector(vector, prediction):\n",
    "    player_dic = {'Alekhine': 0,\n",
    "              'Anand': 1,\n",
    "              'Botvinnik': 2,\n",
    "              'Capablanca': 3,\n",
    "              'Carlsen': 4,\n",
    "              'Ding': 5,\n",
    "              'Euwe': 6,\n",
    "              'Fischer': 7,\n",
    "              'Karpov': 8,\n",
    "              'Kasparov': 9,\n",
    "              'Kramnik': 10,\n",
    "              'Lasker': 11,\n",
    "              'Petrosian': 12,\n",
    "              'Smyslov': 13,\n",
    "              'Spassky': 14,\n",
    "              'Steinitz': 15,\n",
    "              'Tal': 16}\n",
    "    vector[player_dic[prediction]] += 1\n",
    "    return vector\n",
    "\n",
    "def normalize_vector(vector):\n",
    "    total = sum(vector)\n",
    "    return [x / total for x in vector]\n",
    "\n",
    "def create_pred_vector(path, player, modelo):\n",
    "\n",
    "    games = parse_pgn_file(path, player)\n",
    "\n",
    "    vector_list = vectorize_games(games)\n",
    "\n",
    "    pred_vector = [0] * 17\n",
    "\n",
    "    for vector in vector_list:\n",
    "        prediction = modelo.predict(vector.reshape(1, -1))[0]\n",
    "        pred_vector = update_vector(pred_vector, prediction)\n",
    "\n",
    "    return normalize_vector(pred_vector)\n",
    "\n",
    "\n",
    "def compare_vectors(v1, v2):\n",
    "    #return sum([abs(x - y) for x, y in zip(v1, v2)])  (Manhattan distance)\n",
    "    #return (sum([(x - y)**2 for x, y in zip(v1, v2)]))**0.5 (Euclidean distance)\n",
    "    v1 = np.array(v1)\n",
    "    v2 = np.array(v2)\n",
    "    dot_product = np.dot(v1, v2)\n",
    "    norm_vec1 = np.linalg.norm(v1)\n",
    "    norm_vec2 = np.linalg.norm(v2)\n",
    "    return -(dot_product / (norm_vec1 * norm_vec2)) # (-cosine similarity) (this gave the best results)\n",
    "\n",
    "def get_best_match(pred_vector, players_dict):\n",
    "    best_match = None\n",
    "    best_score = float('inf')\n",
    "\n",
    "    for player, idx in players_dict.items():\n",
    "        score = compare_vectors(pred_vector, idx)\n",
    "        if score < best_score:\n",
    "            best_score = score\n",
    "            best_match = player\n",
    "\n",
    "    return best_match\n"
   ]
  },
  {
   "cell_type": "code",
   "execution_count": 23,
   "metadata": {},
   "outputs": [],
   "source": [
    "def predecir(games_vectors, modelo, player_dic):\n",
    "    pred_vector = [0] * 17\n",
    "\n",
    "    for vector in games_vectors:\n",
    "        prediction = modelo.predict(vector.reshape(1, -1))\n",
    "        pred_vector = update_vector(pred_vector, prediction[0])\n",
    "    pred_vector = normalize_vector(pred_vector)\n",
    "\n",
    "    best_match = None\n",
    "    best_score = float('inf')\n",
    "\n",
    "    for player, idx in player_dic.items():\n",
    "        score = compare_vectors(pred_vector, idx)\n",
    "        if score < best_score:\n",
    "            best_score = score\n",
    "            best_match = player\n",
    "\n",
    "    return best_match\n"
   ]
  },
  {
   "cell_type": "markdown",
   "metadata": {},
   "source": [
    "Now we test the model"
   ]
  },
  {
   "cell_type": "code",
   "execution_count": 22,
   "metadata": {},
   "outputs": [
    {
     "data": {
      "text/plain": [
       "Carlsen       1128\n",
       "Anand          847\n",
       "Kramnik        765\n",
       "Karpov         702\n",
       "Smyslov        530\n",
       "Tal            509\n",
       "Spassky        439\n",
       "Kasparov       423\n",
       "Ding           421\n",
       "Petrosian      360\n",
       "Alekhine       340\n",
       "Euwe           207\n",
       "Botvinnik      194\n",
       "Lasker         176\n",
       "Fischer        135\n",
       "Steinitz       129\n",
       "Capablanca     115\n",
       "Name: Jugador, dtype: int64"
      ]
     },
     "execution_count": 22,
     "metadata": {},
     "output_type": "execute_result"
    }
   ],
   "source": [
    "y_test.value_counts()"
   ]
  },
  {
   "cell_type": "code",
   "execution_count": 14,
   "metadata": {},
   "outputs": [],
   "source": [
    "\n",
    "def accuracy_different_n(n, modelo, vector_jugador, X_test, y_test, labels):\n",
    "    lista_real = []\n",
    "    lista_predicciones = []\n",
    "    for jugador in labels:\n",
    "        lista_vectores = []\n",
    "        games = 0\n",
    "        for i in range(len(y_test)):\n",
    "            if y_test.iloc[i] == jugador:\n",
    "                lista_vectores.append(X_test.iloc[i, :].to_numpy())\n",
    "                games += 1\n",
    "            if games == n:\n",
    "                test_jugador = predecir(lista_vectores, modelo, vector_jugador)\n",
    "                lista_real.append(jugador)\n",
    "                lista_predicciones.append(test_jugador)\n",
    "                games = 0\n",
    "                lista_vectores = []\n",
    "\n",
    "    return lista_real, lista_predicciones\n",
    "\n",
    "\n",
    "\n"
   ]
  },
  {
   "cell_type": "markdown",
   "metadata": {},
   "source": [
    "We make a set of \"n\" games with al the test data for each player and we measure the accuracy"
   ]
  },
  {
   "cell_type": "code",
   "execution_count": 81,
   "metadata": {},
   "outputs": [
    {
     "name": "stdout",
     "output_type": "stream",
     "text": [
      "Accuracy para 1 partidas: 0.11671159029649596\n",
      "Accuracy para 7 partidas: 0.2070275403608737\n",
      "Accuracy para 13 partidas: 0.2887700534759358\n",
      "Accuracy para 19 partidas: 0.3507853403141361\n",
      "Accuracy para 25 partidas: 0.4083044982698962\n",
      "Accuracy para 31 partidas: 0.47619047619047616\n",
      "Accuracy para 37 partidas: 0.5235602094240838\n",
      "Accuracy para 43 partidas: 0.5914634146341463\n",
      "Accuracy para 49 partidas: 0.5563380281690141\n",
      "Accuracy para 55 partidas: 0.6904761904761905\n",
      "Accuracy para 61 partidas: 0.5803571428571429\n",
      "Accuracy para 67 partidas: 0.6764705882352942\n",
      "Accuracy para 73 partidas: 0.7252747252747253\n",
      "Accuracy para 79 partidas: 0.7411764705882353\n",
      "Accuracy para 85 partidas: 0.75\n",
      "Accuracy para 91 partidas: 0.8194444444444444\n",
      "Accuracy para 97 partidas: 0.8405797101449275\n",
      "Accuracy para 103 partidas: 0.8153846153846154\n",
      "Accuracy para 109 partidas: 0.8666666666666667\n",
      "Accuracy para 115 partidas: 0.8928571428571429\n"
     ]
    }
   ],
   "source": [
    "from sklearn.metrics import accuracy_score, classification_report\n",
    "labels = y.unique()\n",
    "n_games_data = {}\n",
    "lista_n = []\n",
    "lista_accuracy = []\n",
    "for i in range(1, 116, 6):\n",
    "    lista_real, lista_predicciones = accuracy_different_n(i, modelo, vectores_jugadores, X_test, y_test, labels)\n",
    "    n_games_data[i] = (lista_real, lista_predicciones)\n",
    "    lista_n.append(i)\n",
    "    accuracy = accuracy_score(lista_real, lista_predicciones)\n",
    "    lista_accuracy.append(accuracy)\n",
    "    print(f\"Accuracy para {i} partidas: {accuracy}\")\n"
   ]
  },
  {
   "cell_type": "markdown",
   "metadata": {},
   "source": [
    "We save the results for later analysis"
   ]
  },
  {
   "cell_type": "code",
   "execution_count": 31,
   "metadata": {},
   "outputs": [],
   "source": [
    "#import pickle\n",
    "\n",
    "#with open('n_games_data.pkl', 'wb') as file:\n",
    "#    pickle.dump(n_games_data, file)"
   ]
  },
  {
   "cell_type": "code",
   "execution_count": 82,
   "metadata": {},
   "outputs": [
    {
     "data": {
      "image/png": "[encoded data removed]",
      "text/plain": [
       "<Figure size 720x432 with 1 Axes>"
      ]
     },
     "metadata": {
      "needs_background": "light"
     },
     "output_type": "display_data"
    }
   ],
   "source": [
    "import matplotlib.pyplot as plt\n",
    "\n",
    "\n",
    "plt.figure(figsize=(10, 6))\n",
    "plt.plot(lista_n, lista_accuracy, marker='o', linestyle='-', color='b', label='Accuracy')\n",
    "\n",
    "# Añadir títulos y etiquetas\n",
    "plt.title('Relación entre n y Accuracy')\n",
    "plt.xlabel('n')\n",
    "plt.ylabel('Accuracy')\n",
    "plt.legend()\n",
    "\n",
    "# Mostrar la cuadrícula\n",
    "plt.grid(True)\n",
    "\n",
    "# Mostrar el gráfico\n",
    "plt.show()"
   ]
  },
  {
   "cell_type": "markdown",
   "metadata": {},
   "source": [
    "Good accuracy, especially for a number of games greater than 80"
   ]
  },
  {
   "cell_type": "code",
   "execution_count": 38,
   "metadata": {},
   "outputs": [],
   "source": [
    "with open('n_games_data.pkl', 'rb') as file:\n",
    "    n_games_data = pickle.load(file)"
   ]
  },
  {
   "cell_type": "code",
   "execution_count": 40,
   "metadata": {},
   "outputs": [
    {
     "name": "stdout",
     "output_type": "stream",
     "text": [
      "0.8928571428571429\n",
      "              precision    recall  f1-score   support\n",
      "\n",
      "    Alekhine       1.00      1.00      1.00         2\n",
      "       Anand       0.88      1.00      0.93         7\n",
      "   Botvinnik       1.00      1.00      1.00         1\n",
      "  Capablanca       1.00      1.00      1.00         1\n",
      "     Carlsen       1.00      0.78      0.88         9\n",
      "        Ding       0.67      0.67      0.67         3\n",
      "        Euwe       1.00      1.00      1.00         1\n",
      "     Fischer       1.00      1.00      1.00         1\n",
      "      Karpov       1.00      0.83      0.91         6\n",
      "    Kasparov       1.00      1.00      1.00         3\n",
      "     Kramnik       0.62      0.83      0.71         6\n",
      "      Lasker       1.00      1.00      1.00         1\n",
      "   Petrosian       1.00      1.00      1.00         3\n",
      "     Smyslov       1.00      0.75      0.86         4\n",
      "     Spassky       1.00      1.00      1.00         3\n",
      "    Steinitz       1.00      1.00      1.00         1\n",
      "         Tal       0.80      1.00      0.89         4\n",
      "\n",
      "    accuracy                           0.89        56\n",
      "   macro avg       0.94      0.93      0.93        56\n",
      "weighted avg       0.91      0.89      0.90        56\n",
      "\n"
     ]
    }
   ],
   "source": [
    "lista_real = n_games_data[115][0]\n",
    "lista_predicciones = n_games_data[115][1]\n",
    "\n",
    "print(accuracy_score(lista_real, lista_predicciones))\n",
    "print(classification_report(lista_real, lista_predicciones))"
   ]
  },
  {
   "cell_type": "code",
   "execution_count": 45,
   "metadata": {},
   "outputs": [
    {
     "name": "stdout",
     "output_type": "stream",
     "text": [
      "Normalized confusion matrix\n"
     ]
    },
    {
     "data": {
      "image/png": "[encoded data removed]",
      "text/plain": [
       "<Figure size 792x792 with 2 Axes>"
      ]
     },
     "metadata": {
      "needs_background": "light"
     },
     "output_type": "display_data"
    }
   ],
   "source": [
    "cnf_matrix = confusion_matrix(lista_real, lista_predicciones)\n",
    "np.set_printoptions(precision=2)\n",
    "\n",
    "# Plot normalized confusion matrix\n",
    "plt.figure(figsize=(11, 11))\n",
    "plot_confusion_matrix(cnf_matrix, classes=labels, normalize=True, title='Normalized confusion matrix')\n",
    "\n",
    "plt.show()"
   ]
  },
  {
   "cell_type": "markdown",
   "metadata": {},
   "source": [
    "Looking at the results, we can see that the errors may be reasonable, because the model has errors with players from the same era.\n",
    "\n"
   ]
  },
  {
   "cell_type": "markdown",
   "metadata": {},
   "source": [
    "### Now we use all the data we have for each player to make a final prediction"
   ]
  },
  {
   "cell_type": "code",
   "execution_count": 26,
   "metadata": {},
   "outputs": [
    {
     "name": "stdout",
     "output_type": "stream",
     "text": [
      "Prediccion para Alekhine: Alekhine\n",
      "Prediccion para Anand: Anand\n",
      "Prediccion para Botvinnik: Botvinnik\n",
      "Prediccion para Capablanca: Capablanca\n",
      "Prediccion para Carlsen: Carlsen\n",
      "Prediccion para Ding: Ding\n",
      "Prediccion para Euwe: Euwe\n",
      "Prediccion para Fischer: Fischer\n",
      "Prediccion para Karpov: Karpov\n",
      "Prediccion para Kasparov: Kasparov\n",
      "Prediccion para Kramnik: Kramnik\n",
      "Prediccion para Lasker: Lasker\n",
      "Prediccion para Petrosian: Petrosian\n",
      "Prediccion para Smyslov: Smyslov\n",
      "Prediccion para Spassky: Spassky\n",
      "Prediccion para Steinitz: Steinitz\n",
      "Prediccion para Tal: Tal\n",
      "Accuracy cuando se usan todos los datos de test: 1.0\n"
     ]
    }
   ],
   "source": [
    "from sklearn.metrics import accuracy_score\n",
    "labels = y.unique()\n",
    "lista_predicciones = []\n",
    "for jugador in labels:  \n",
    "    lista_vectores = []\n",
    "    for i in range(len(y_test)):\n",
    "        if y_test.iloc[i] == jugador:\n",
    "            lista_vectores.append(X_test.iloc[i, :].to_numpy())\n",
    "    test_jugador = predecir(lista_vectores, modelo, vectores_jugadores)\n",
    "    print(f\"Prediccion para {jugador}: {test_jugador}\")\n",
    "    lista_predicciones.append(test_jugador)\n",
    "accuracy = accuracy_score(labels, lista_predicciones)\n",
    "\n",
    "print(\"Accuracy cuando se usan todos los datos de test:\", accuracy)"
   ]
  },
  {
   "cell_type": "markdown",
   "metadata": {},
   "source": [
    "100% accuracy :D"
   ]
  },
  {
   "cell_type": "markdown",
   "metadata": {},
   "source": [
    "#### Now we test with the Magnus Carlsen lichess data"
   ]
  },
  {
   "cell_type": "code",
   "execution_count": 28,
   "metadata": {},
   "outputs": [
    {
     "data": {
      "text/plain": [
       "'Carlsen'"
      ]
     },
     "execution_count": 28,
     "metadata": {},
     "output_type": "execute_result"
    }
   ],
   "source": [
    "vector_usuario = create_pred_vector(\"pgns\\lichess_DrNykterstein_2024-06-25.pgn\", \"DrNykterstein\", modelo)\n",
    "recomendacion = get_best_match(vector_usuario, vectores_jugadores)\n",
    "recomendacion"
   ]
  },
  {
   "cell_type": "markdown",
   "metadata": {},
   "source": [
    "Good classification too!"
   ]
  },
  {
   "cell_type": "code",
   "execution_count": 32,
   "metadata": {},
   "outputs": [
    {
     "data": {
      "text/plain": [
       "[0.060955518945634266,\n",
       " 0.03130148270181219,\n",
       " 0.032948929159802305,\n",
       " 0.04612850082372323,\n",
       " 0.15650741350906094,\n",
       " 0.13509060955518945,\n",
       " 0.03459637561779242,\n",
       " 0.12191103789126853,\n",
       " 0.03459637561779242,\n",
       " 0.039538714991762765,\n",
       " 0.016474464579901153,\n",
       " 0.10378912685337727,\n",
       " 0.023064250411861616,\n",
       " 0.018121911037891267,\n",
       " 0.029654036243822075,\n",
       " 0.09390444810543658,\n",
       " 0.0214168039538715]"
      ]
     },
     "execution_count": 32,
     "metadata": {},
     "output_type": "execute_result"
    }
   ],
   "source": [
    "vector_usuario"
   ]
  },
  {
   "cell_type": "code",
   "execution_count": 34,
   "metadata": {},
   "outputs": [
    {
     "data": {
      "text/plain": [
       "[0.06731813246471227,\n",
       " 0.04343105320304017,\n",
       " 0.05754614549402823,\n",
       " 0.05754614549402823,\n",
       " 0.09771986970684039,\n",
       " 0.16720955483170466,\n",
       " 0.04343105320304017,\n",
       " 0.10423452768729642,\n",
       " 0.05428881650380022,\n",
       " 0.03691639522258415,\n",
       " 0.02714440825190011,\n",
       " 0.09446254071661238,\n",
       " 0.016286644951140065,\n",
       " 0.02714440825190011,\n",
       " 0.023887079261672096,\n",
       " 0.06948968512486428,\n",
       " 0.011943539630836048]"
      ]
     },
     "execution_count": 34,
     "metadata": {},
     "output_type": "execute_result"
    }
   ],
   "source": [
    "list(vectores_jugadores[\"Carlsen\"])"
   ]
  },
  {
   "cell_type": "markdown",
   "metadata": {},
   "source": [
    "Very similar vector"
   ]
  },
  {
   "cell_type": "markdown",
   "metadata": {},
   "source": [
    "### Using the model:"
   ]
  },
  {
   "cell_type": "markdown",
   "metadata": {},
   "source": [
    "Example of use:"
   ]
  },
  {
   "cell_type": "code",
   "execution_count": 36,
   "metadata": {},
   "outputs": [
    {
     "data": {
      "text/plain": [
       "'Alekhine'"
      ]
     },
     "execution_count": 36,
     "metadata": {},
     "output_type": "execute_result"
    }
   ],
   "source": [
    "vector_usuario = create_pred_vector(\"pgns\\lichess_B12113114_2024-06-25.pgn\", \"B12113114\", modelo)\n",
    "recomendacion = get_best_match(vector_usuario, vectores_jugadores)\n",
    "recomendacion"
   ]
  },
  {
   "cell_type": "code",
   "execution_count": 37,
   "metadata": {},
   "outputs": [
    {
     "data": {
      "text/plain": [
       "[0.12790697674418605,\n",
       " 0.023255813953488372,\n",
       " 0.007751937984496124,\n",
       " 0.06589147286821706,\n",
       " 0.08914728682170543,\n",
       " 0.06976744186046512,\n",
       " 0.050387596899224806,\n",
       " 0.08914728682170543,\n",
       " 0.011627906976744186,\n",
       " 0.023255813953488372,\n",
       " 0.007751937984496124,\n",
       " 0.12403100775193798,\n",
       " 0.0,\n",
       " 0.0,\n",
       " 0.050387596899224806,\n",
       " 0.18992248062015504,\n",
       " 0.06976744186046512]"
      ]
     },
     "execution_count": 37,
     "metadata": {},
     "output_type": "execute_result"
    }
   ],
   "source": [
    "vector_usuario"
   ]
  },
  {
   "cell_type": "markdown",
   "metadata": {},
   "source": [
    "## To use the model run from here"
   ]
  },
  {
   "cell_type": "markdown",
   "metadata": {},
   "source": [
    "Load the model and vectors"
   ]
  },
  {
   "cell_type": "code",
   "execution_count": null,
   "metadata": {},
   "outputs": [],
   "source": [
    "import pickle\n",
    "\n",
    "with open('svm_model_chess.pkl', 'rb') as file:\n",
    "    modelo = pickle.load(file)\n",
    "\n",
    "with open('vectores_jugadores.pkl', 'rb') as archivo:\n",
    "    vectores_jugadores = pickle.load(archivo)"
   ]
  },
  {
   "cell_type": "markdown",
   "metadata": {},
   "source": [
    "Uncomment this cell if you do not have the libraries installed"
   ]
  },
  {
   "cell_type": "code",
   "execution_count": null,
   "metadata": {},
   "outputs": [],
   "source": [
    "#!pip install sentence_transformers\n",
    "#!pip install python-chess"
   ]
  },
  {
   "cell_type": "markdown",
   "metadata": {},
   "source": [
    "Create the functions"
   ]
  },
  {
   "cell_type": "code",
   "execution_count": null,
   "metadata": {},
   "outputs": [],
   "source": [
    "import sentence_transformers\n",
    "import chess.pgn\n",
    "\n",
    "def parse_pgn_file(file_path, player):\n",
    "    \n",
    "    with open(file_path, 'r', encoding='utf-8') as pgn:\n",
    "        \n",
    "        player_games = list()\n",
    "\n",
    "        while True:\n",
    "\n",
    "            try:\n",
    "                game = chess.pgn.read_game(pgn)\n",
    "            except UnicodeDecodeError:\n",
    "                print(game)\n",
    "                \n",
    "            if game is None:\n",
    "                break  \n",
    "            #We asume that name of the player is always in one of the headers\n",
    "            player_color = \"White\" if player == game.headers[\"White\"] else \"Black\"\n",
    "            player_moves = list()\n",
    "            node = game\n",
    "\n",
    "            i = 0\n",
    "            while not node.is_end():\n",
    "\n",
    "                move = node.variation(0)\n",
    "                \n",
    "                next_node = node.variation(0)\n",
    "\n",
    "                if player_color == \"White\":\n",
    "                    if i % 2 == 0:\n",
    "                        player_moves.append(node.board().san(next_node.move))\n",
    "                else:\n",
    "                    if i % 2 != 0:\n",
    "                        player_moves.append(node.board().san(next_node.move))\n",
    "\n",
    "                node = next_node\n",
    "                i += 1\n",
    "            \n",
    "            \n",
    "            player_games.append(player_moves)\n",
    "\n",
    "    return player_games\n",
    "\n",
    "\n",
    "\n",
    "def vectorize_games(games):\n",
    "    modelo = sentence_transformers.SentenceTransformer(\"bert-base-nli-mean-tokens\")\n",
    "    games_vectors = list()\n",
    "\n",
    "    for game in games:\n",
    "        game_string = \" \".join(game)\n",
    "        modelo.encode(game_string)\n",
    "        games_vectors.append(modelo.encode(game_string))\n",
    "    \n",
    "    return games_vectors\n",
    "\n",
    "def update_vector(vector, prediction):\n",
    "    player_dic = {'Alekhine': 0,\n",
    "              'Anand': 1,\n",
    "              'Botvinnik': 2,\n",
    "              'Capablanca': 3,\n",
    "              'Carlsen': 4,\n",
    "              'Ding': 5,\n",
    "              'Euwe': 6,\n",
    "              'Fischer': 7,\n",
    "              'Karpov': 8,\n",
    "              'Kasparov': 9,\n",
    "              'Kramnik': 10,\n",
    "              'Lasker': 11,\n",
    "              'Petrosian': 12,\n",
    "              'Smyslov': 13,\n",
    "              'Spassky': 14,\n",
    "              'Steinitz': 15,\n",
    "              'Tal': 16}\n",
    "    vector[player_dic[prediction]] += 1\n",
    "    return vector\n",
    "\n",
    "def normalize_vector(vector):\n",
    "    total = sum(vector)\n",
    "    return [x / total for x in vector]\n",
    "\n",
    "def create_pred_vector(path, player, modelo):\n",
    "\n",
    "    games = parse_pgn_file(path, player)\n",
    "\n",
    "    vector_list = vectorize_games(games)\n",
    "\n",
    "    pred_vector = [0] * 17\n",
    "\n",
    "    for vector in vector_list:\n",
    "        prediction = modelo.predict(vector.reshape(1, -1))[0]\n",
    "        pred_vector = update_vector(pred_vector, prediction)\n",
    "\n",
    "    return normalize_vector(pred_vector)\n",
    "\n",
    "\n",
    "def compare_vectors(v1, v2):\n",
    "    #return sum([abs(x - y) for x, y in zip(v1, v2)])  (Manhattan distance)\n",
    "    #return (sum([(x - y)**2 for x, y in zip(v1, v2)]))**0.5 (Euclidean distance)\n",
    "    v1 = np.array(v1)\n",
    "    v2 = np.array(v2)\n",
    "    dot_product = np.dot(v1, v2)\n",
    "    norm_vec1 = np.linalg.norm(v1)\n",
    "    norm_vec2 = np.linalg.norm(v2)\n",
    "    return -(dot_product / (norm_vec1 * norm_vec2)) # (-cosine similarity) (this gave the best results)\n",
    "\n",
    "def get_best_match(pred_vector, players_dict):\n",
    "    best_match = None\n",
    "    best_score = float('inf')\n",
    "\n",
    "    for player, idx in players_dict.items():\n",
    "        score = compare_vectors(pred_vector, idx)\n",
    "        if score < best_score:\n",
    "            best_score = score\n",
    "            best_match = player\n",
    "\n",
    "    return best_match"
   ]
  },
  {
   "cell_type": "markdown",
   "metadata": {},
   "source": [
    "Your results\n",
    "\n",
    "The model takes approximately 1 minute per 100 games (at least for us)"
   ]
  },
  {
   "cell_type": "code",
   "execution_count": null,
   "metadata": {},
   "outputs": [],
   "source": [
    "your_vector = create_pred_vector(\"path_to_your_pgn_file\", \"your_username\", modelo)\n",
    "similar_player = get_best_match(your_vector, vectores_jugadores)\n",
    "similar_player"
   ]
  },
  {
   "cell_type": "code",
   "execution_count": null,
   "metadata": {},
   "outputs": [],
   "source": [
    "your_vector"
   ]
  }
 ],
 "metadata": {
  "kernelspec": {
   "display_name": "Python 3",
   "language": "python",
   "name": "python3"
  },
  "language_info": {
   "codemirror_mode": {
    "name": "ipython",
    "version": 3
   },
   "file_extension": ".py",
   "mimetype": "text/x-python",
   "name": "python",
   "nbconvert_exporter": "python",
   "pygments_lexer": "ipython3",
   "version": "3.8.10"
  }
 },
 "nbformat": 4,
 "nbformat_minor": 2
}
